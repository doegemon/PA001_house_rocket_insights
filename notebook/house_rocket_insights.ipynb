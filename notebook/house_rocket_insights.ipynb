{
 "cells": [
  {
   "cell_type": "markdown",
   "id": "96ecce62",
   "metadata": {},
   "source": [
    "# House Rocket Insights"
   ]
  },
  {
   "cell_type": "markdown",
   "id": "bc89dba7",
   "metadata": {},
   "source": [
    "### Importação de Bibliotecas"
   ]
  },
  {
   "cell_type": "code",
   "execution_count": 65,
   "id": "3dfe71ba",
   "metadata": {
    "ExecuteTime": {
     "end_time": "2022-10-14T12:51:30.572995Z",
     "start_time": "2022-10-14T12:51:30.569994Z"
    }
   },
   "outputs": [],
   "source": [
    "import pandas  as pd\n",
    "import numpy   as np\n",
    "import seaborn as sns\n",
    "from matplotlib import pyplot as plt\n",
    "from IPython.core.display import HTML"
   ]
  },
  {
   "cell_type": "markdown",
   "id": "39e92080",
   "metadata": {},
   "source": [
    "### Configurações Pessoais"
   ]
  },
  {
   "cell_type": "code",
   "execution_count": 66,
   "id": "1e1692ce",
   "metadata": {
    "ExecuteTime": {
     "end_time": "2022-10-14T12:51:32.454419Z",
     "start_time": "2022-10-14T12:51:32.443414Z"
    }
   },
   "outputs": [
    {
     "name": "stdout",
     "output_type": "stream",
     "text": [
      "Populating the interactive namespace from numpy and matplotlib\n"
     ]
    },
    {
     "data": {
      "text/html": [
       "<style>.container{width:90% !important;}</style>"
      ],
      "text/plain": [
       "<IPython.core.display.HTML object>"
      ]
     },
     "metadata": {},
     "output_type": "display_data"
    }
   ],
   "source": [
    "def personal_settings():\n",
    "    %matplotlib inline\n",
    "    %pylab inline\n",
    "    plt.style.use('bmh')\n",
    "    plt.rcParams['font.size'] = 20\n",
    "    display(HTML('<style>.container{width:90% !important;}</style>'))\n",
    "    pd.options.display.max_columns = None\n",
    "    pd.options.display.max_rows = None\n",
    "    pd.set_option('display.float_format', lambda x:'%.2f' % x)\n",
    "    sns.set()\n",
    "    sns.set(rc = {'figure.figsize':(15,8)})\n",
    "\n",
    "personal_settings()"
   ]
  },
  {
   "cell_type": "markdown",
   "id": "678cbda6",
   "metadata": {},
   "source": [
    "### Carregando o Dataset"
   ]
  },
  {
   "cell_type": "code",
   "execution_count": 67,
   "id": "fa82b9be",
   "metadata": {
    "ExecuteTime": {
     "end_time": "2022-10-14T12:51:34.099783Z",
     "start_time": "2022-10-14T12:51:34.057774Z"
    }
   },
   "outputs": [],
   "source": [
    "df_raw = pd.read_csv('csv/kc_house_data.csv')"
   ]
  },
  {
   "cell_type": "code",
   "execution_count": 68,
   "id": "c314096a",
   "metadata": {
    "ExecuteTime": {
     "end_time": "2022-10-14T12:51:34.728925Z",
     "start_time": "2022-10-14T12:51:34.724923Z"
    }
   },
   "outputs": [],
   "source": [
    "df = df_raw.copy()"
   ]
  },
  {
   "cell_type": "code",
   "execution_count": 69,
   "id": "7d2821ea",
   "metadata": {
    "ExecuteTime": {
     "end_time": "2022-10-14T12:51:35.331058Z",
     "start_time": "2022-10-14T12:51:35.320056Z"
    }
   },
   "outputs": [
    {
     "data": {
      "text/html": [
       "<div>\n",
       "<style scoped>\n",
       "    .dataframe tbody tr th:only-of-type {\n",
       "        vertical-align: middle;\n",
       "    }\n",
       "\n",
       "    .dataframe tbody tr th {\n",
       "        vertical-align: top;\n",
       "    }\n",
       "\n",
       "    .dataframe thead th {\n",
       "        text-align: right;\n",
       "    }\n",
       "</style>\n",
       "<table border=\"1\" class=\"dataframe\">\n",
       "  <thead>\n",
       "    <tr style=\"text-align: right;\">\n",
       "      <th></th>\n",
       "      <th>id</th>\n",
       "      <th>date</th>\n",
       "      <th>price</th>\n",
       "      <th>bedrooms</th>\n",
       "      <th>bathrooms</th>\n",
       "      <th>sqft_living</th>\n",
       "      <th>sqft_lot</th>\n",
       "      <th>floors</th>\n",
       "      <th>waterfront</th>\n",
       "      <th>view</th>\n",
       "      <th>condition</th>\n",
       "      <th>grade</th>\n",
       "      <th>sqft_above</th>\n",
       "      <th>sqft_basement</th>\n",
       "      <th>yr_built</th>\n",
       "      <th>yr_renovated</th>\n",
       "      <th>zipcode</th>\n",
       "      <th>lat</th>\n",
       "      <th>long</th>\n",
       "      <th>sqft_living15</th>\n",
       "      <th>sqft_lot15</th>\n",
       "    </tr>\n",
       "  </thead>\n",
       "  <tbody>\n",
       "    <tr>\n",
       "      <th>0</th>\n",
       "      <td>7129300520</td>\n",
       "      <td>20141013T000000</td>\n",
       "      <td>221900.00</td>\n",
       "      <td>3</td>\n",
       "      <td>1.00</td>\n",
       "      <td>1180</td>\n",
       "      <td>5650</td>\n",
       "      <td>1.00</td>\n",
       "      <td>0</td>\n",
       "      <td>0</td>\n",
       "      <td>3</td>\n",
       "      <td>7</td>\n",
       "      <td>1180</td>\n",
       "      <td>0</td>\n",
       "      <td>1955</td>\n",
       "      <td>0</td>\n",
       "      <td>98178</td>\n",
       "      <td>47.51</td>\n",
       "      <td>-122.26</td>\n",
       "      <td>1340</td>\n",
       "      <td>5650</td>\n",
       "    </tr>\n",
       "    <tr>\n",
       "      <th>1</th>\n",
       "      <td>6414100192</td>\n",
       "      <td>20141209T000000</td>\n",
       "      <td>538000.00</td>\n",
       "      <td>3</td>\n",
       "      <td>2.25</td>\n",
       "      <td>2570</td>\n",
       "      <td>7242</td>\n",
       "      <td>2.00</td>\n",
       "      <td>0</td>\n",
       "      <td>0</td>\n",
       "      <td>3</td>\n",
       "      <td>7</td>\n",
       "      <td>2170</td>\n",
       "      <td>400</td>\n",
       "      <td>1951</td>\n",
       "      <td>1991</td>\n",
       "      <td>98125</td>\n",
       "      <td>47.72</td>\n",
       "      <td>-122.32</td>\n",
       "      <td>1690</td>\n",
       "      <td>7639</td>\n",
       "    </tr>\n",
       "    <tr>\n",
       "      <th>2</th>\n",
       "      <td>5631500400</td>\n",
       "      <td>20150225T000000</td>\n",
       "      <td>180000.00</td>\n",
       "      <td>2</td>\n",
       "      <td>1.00</td>\n",
       "      <td>770</td>\n",
       "      <td>10000</td>\n",
       "      <td>1.00</td>\n",
       "      <td>0</td>\n",
       "      <td>0</td>\n",
       "      <td>3</td>\n",
       "      <td>6</td>\n",
       "      <td>770</td>\n",
       "      <td>0</td>\n",
       "      <td>1933</td>\n",
       "      <td>0</td>\n",
       "      <td>98028</td>\n",
       "      <td>47.74</td>\n",
       "      <td>-122.23</td>\n",
       "      <td>2720</td>\n",
       "      <td>8062</td>\n",
       "    </tr>\n",
       "    <tr>\n",
       "      <th>3</th>\n",
       "      <td>2487200875</td>\n",
       "      <td>20141209T000000</td>\n",
       "      <td>604000.00</td>\n",
       "      <td>4</td>\n",
       "      <td>3.00</td>\n",
       "      <td>1960</td>\n",
       "      <td>5000</td>\n",
       "      <td>1.00</td>\n",
       "      <td>0</td>\n",
       "      <td>0</td>\n",
       "      <td>5</td>\n",
       "      <td>7</td>\n",
       "      <td>1050</td>\n",
       "      <td>910</td>\n",
       "      <td>1965</td>\n",
       "      <td>0</td>\n",
       "      <td>98136</td>\n",
       "      <td>47.52</td>\n",
       "      <td>-122.39</td>\n",
       "      <td>1360</td>\n",
       "      <td>5000</td>\n",
       "    </tr>\n",
       "    <tr>\n",
       "      <th>4</th>\n",
       "      <td>1954400510</td>\n",
       "      <td>20150218T000000</td>\n",
       "      <td>510000.00</td>\n",
       "      <td>3</td>\n",
       "      <td>2.00</td>\n",
       "      <td>1680</td>\n",
       "      <td>8080</td>\n",
       "      <td>1.00</td>\n",
       "      <td>0</td>\n",
       "      <td>0</td>\n",
       "      <td>3</td>\n",
       "      <td>8</td>\n",
       "      <td>1680</td>\n",
       "      <td>0</td>\n",
       "      <td>1987</td>\n",
       "      <td>0</td>\n",
       "      <td>98074</td>\n",
       "      <td>47.62</td>\n",
       "      <td>-122.05</td>\n",
       "      <td>1800</td>\n",
       "      <td>7503</td>\n",
       "    </tr>\n",
       "  </tbody>\n",
       "</table>\n",
       "</div>"
      ],
      "text/plain": [
       "           id             date     price  bedrooms  bathrooms  sqft_living  \\\n",
       "0  7129300520  20141013T000000 221900.00         3       1.00         1180   \n",
       "1  6414100192  20141209T000000 538000.00         3       2.25         2570   \n",
       "2  5631500400  20150225T000000 180000.00         2       1.00          770   \n",
       "3  2487200875  20141209T000000 604000.00         4       3.00         1960   \n",
       "4  1954400510  20150218T000000 510000.00         3       2.00         1680   \n",
       "\n",
       "   sqft_lot  floors  waterfront  view  condition  grade  sqft_above  \\\n",
       "0      5650    1.00           0     0          3      7        1180   \n",
       "1      7242    2.00           0     0          3      7        2170   \n",
       "2     10000    1.00           0     0          3      6         770   \n",
       "3      5000    1.00           0     0          5      7        1050   \n",
       "4      8080    1.00           0     0          3      8        1680   \n",
       "\n",
       "   sqft_basement  yr_built  yr_renovated  zipcode   lat    long  \\\n",
       "0              0      1955             0    98178 47.51 -122.26   \n",
       "1            400      1951          1991    98125 47.72 -122.32   \n",
       "2              0      1933             0    98028 47.74 -122.23   \n",
       "3            910      1965             0    98136 47.52 -122.39   \n",
       "4              0      1987             0    98074 47.62 -122.05   \n",
       "\n",
       "   sqft_living15  sqft_lot15  \n",
       "0           1340        5650  \n",
       "1           1690        7639  \n",
       "2           2720        8062  \n",
       "3           1360        5000  \n",
       "4           1800        7503  "
      ]
     },
     "execution_count": 69,
     "metadata": {},
     "output_type": "execute_result"
    }
   ],
   "source": [
    "df.head()"
   ]
  },
  {
   "cell_type": "markdown",
   "id": "711f8998",
   "metadata": {},
   "source": [
    "### Dimensões"
   ]
  },
  {
   "cell_type": "code",
   "execution_count": 70,
   "id": "78f57f28",
   "metadata": {
    "ExecuteTime": {
     "end_time": "2022-10-14T12:51:37.517547Z",
     "start_time": "2022-10-14T12:51:37.513547Z"
    }
   },
   "outputs": [
    {
     "name": "stdout",
     "output_type": "stream",
     "text": [
      "Número de atributos/colunas: 21\n",
      "Número de registros/linhas:  21613\n"
     ]
    }
   ],
   "source": [
    "print(f'Número de atributos/colunas: {df.shape[1]}')\n",
    "print(f'Número de registros/linhas:  {df.shape[0]}')"
   ]
  },
  {
   "cell_type": "markdown",
   "id": "b44b8849",
   "metadata": {},
   "source": [
    "### Nome das Colunas"
   ]
  },
  {
   "cell_type": "code",
   "execution_count": 71,
   "id": "a62aa8a6",
   "metadata": {
    "ExecuteTime": {
     "end_time": "2022-10-14T12:51:39.797056Z",
     "start_time": "2022-10-14T12:51:39.794057Z"
    }
   },
   "outputs": [
    {
     "name": "stdout",
     "output_type": "stream",
     "text": [
      "0 id\n",
      "1 date\n",
      "2 price\n",
      "3 bedrooms\n",
      "4 bathrooms\n",
      "5 sqft_living\n",
      "6 sqft_lot\n",
      "7 floors\n",
      "8 waterfront\n",
      "9 view\n",
      "10 condition\n",
      "11 grade\n",
      "12 sqft_above\n",
      "13 sqft_basement\n",
      "14 yr_built\n",
      "15 yr_renovated\n",
      "16 zipcode\n",
      "17 lat\n",
      "18 long\n",
      "19 sqft_living15\n",
      "20 sqft_lot15\n"
     ]
    }
   ],
   "source": [
    "for i, column in enumerate(df.columns):\n",
    "    print(i, column)"
   ]
  },
  {
   "cell_type": "markdown",
   "id": "1aacb11a",
   "metadata": {},
   "source": [
    "### Dicionário de Colunas"
   ]
  },
  {
   "cell_type": "markdown",
   "id": "504b5d72",
   "metadata": {},
   "source": [
    "- id = identificador único de cada imóvel\n",
    "- date = data de disponibilização do imóvel\n",
    "- price = preço de venda\n",
    "- bedrooms = número de quartos\n",
    "- bathrooms = número de banheiros (.5 significa um banheiro com privada mas sem chuveiro, enquanto .75 ou 3/4 significa um banheiro com uma torneira, uma privada e um chuveiro ou banheira)\n",
    "- sqft_living = tamanho interno em pés quadrados\n",
    "- sqft_lot = tamanho do terreno imóvel em pés quadrados\n",
    "- floors = número de andares\n",
    "- waterfront = se o imóvel tem frente para a água/lago ou não\n",
    "- view = um índice de 0 a 4 representando o quão boa é a vista do imóvel\n",
    "- condition = um índice de 1 a 5 representando o estado de conservação do imóvel\n",
    "- grade = um índice de 1 a 13 representando a qualidade da construção e design do imóvel\n",
    "- sqft_above = tamanho do interior do imóvel acima do nível da superfície em pés quadrados\n",
    "- sqft_basement = tamanho do interior do imóvel abaixo do nível da superfície em pés quadrados\n",
    "- yr_built = o ano de construção do imóvel\n",
    "- yr_renovated = o ano da última reforma do imóvel\n",
    "- zipcode = o código postal da região do imóvel\n",
    "- lat = latitude\n",
    "- long = longitude\n",
    "- sqft_living15 = tamanho interno em pés quadrados para os 15 vizinhos mais próximos\n",
    "- sqft_lot15 = tamanho do imóvel em pés quadrados para os 15 vizinhos mais próximos"
   ]
  },
  {
   "cell_type": "markdown",
   "id": "95f40eef",
   "metadata": {},
   "source": [
    "### Tipos de Dados"
   ]
  },
  {
   "cell_type": "code",
   "execution_count": 72,
   "id": "fdfa6bd8",
   "metadata": {
    "ExecuteTime": {
     "end_time": "2022-10-14T12:51:43.274834Z",
     "start_time": "2022-10-14T12:51:43.270834Z"
    }
   },
   "outputs": [
    {
     "data": {
      "text/plain": [
       "id                 int64\n",
       "date              object\n",
       "price            float64\n",
       "bedrooms           int64\n",
       "bathrooms        float64\n",
       "sqft_living        int64\n",
       "sqft_lot           int64\n",
       "floors           float64\n",
       "waterfront         int64\n",
       "view               int64\n",
       "condition          int64\n",
       "grade              int64\n",
       "sqft_above         int64\n",
       "sqft_basement      int64\n",
       "yr_built           int64\n",
       "yr_renovated       int64\n",
       "zipcode            int64\n",
       "lat              float64\n",
       "long             float64\n",
       "sqft_living15      int64\n",
       "sqft_lot15         int64\n",
       "dtype: object"
      ]
     },
     "execution_count": 72,
     "metadata": {},
     "output_type": "execute_result"
    }
   ],
   "source": [
    "df.dtypes"
   ]
  },
  {
   "cell_type": "markdown",
   "id": "6653d08a",
   "metadata": {},
   "source": [
    "Chama a atenção o fato da coluna 'date' estar como 'object', então terei que alterar para o tipo 'datetime', visando facilitar a análise e manipulação de dados"
   ]
  },
  {
   "cell_type": "markdown",
   "id": "c88b64d8",
   "metadata": {},
   "source": [
    "### Alterando Tipos de Dados"
   ]
  },
  {
   "cell_type": "code",
   "execution_count": 73,
   "id": "c78fe0cd",
   "metadata": {
    "ExecuteTime": {
     "end_time": "2022-10-14T12:51:45.546342Z",
     "start_time": "2022-10-14T12:51:45.541342Z"
    }
   },
   "outputs": [
    {
     "data": {
      "text/plain": [
       "0    20141013T000000\n",
       "1    20141209T000000\n",
       "2    20150225T000000\n",
       "3    20141209T000000\n",
       "4    20150218T000000\n",
       "Name: date, dtype: object"
      ]
     },
     "metadata": {},
     "output_type": "display_data"
    },
    {
     "data": {
      "text/plain": [
       "dtype('O')"
      ]
     },
     "metadata": {},
     "output_type": "display_data"
    }
   ],
   "source": [
    "display(df['date'].head())\n",
    "display(df['date'].dtypes)"
   ]
  },
  {
   "cell_type": "code",
   "execution_count": 74,
   "id": "619785cc",
   "metadata": {
    "ExecuteTime": {
     "end_time": "2022-10-14T12:51:47.830854Z",
     "start_time": "2022-10-14T12:51:47.824852Z"
    }
   },
   "outputs": [],
   "source": [
    "df['date'] = pd.to_datetime(df['date'], format='%Y-%m-%d')"
   ]
  },
  {
   "cell_type": "code",
   "execution_count": 75,
   "id": "9efbd112",
   "metadata": {
    "ExecuteTime": {
     "end_time": "2022-10-14T12:51:48.616029Z",
     "start_time": "2022-10-14T12:51:48.610027Z"
    }
   },
   "outputs": [
    {
     "data": {
      "text/plain": [
       "0   2014-10-13\n",
       "1   2014-12-09\n",
       "2   2015-02-25\n",
       "3   2014-12-09\n",
       "4   2015-02-18\n",
       "Name: date, dtype: datetime64[ns]"
      ]
     },
     "metadata": {},
     "output_type": "display_data"
    },
    {
     "data": {
      "text/plain": [
       "dtype('<M8[ns]')"
      ]
     },
     "metadata": {},
     "output_type": "display_data"
    }
   ],
   "source": [
    "display(df['date'].head())\n",
    "display(df['date'].dtypes)"
   ]
  },
  {
   "cell_type": "markdown",
   "id": "95685580",
   "metadata": {},
   "source": [
    "### Substituindo Valores"
   ]
  },
  {
   "cell_type": "code",
   "execution_count": 76,
   "id": "e8ee5783",
   "metadata": {
    "ExecuteTime": {
     "end_time": "2022-10-14T12:51:50.681490Z",
     "start_time": "2022-10-14T12:51:50.676489Z"
    }
   },
   "outputs": [],
   "source": [
    "df['waterfront'] = df['waterfront'].replace(1, 'yes')\n",
    "df['waterfront'] = df['waterfront'].replace(0, 'no')"
   ]
  },
  {
   "cell_type": "markdown",
   "id": "5c667de1",
   "metadata": {},
   "source": [
    "Os valores dessa coluna estavam '1' e '0', então só troquei para 'yes' ou 'no' para ficar mais claro"
   ]
  },
  {
   "cell_type": "markdown",
   "id": "0a08c875",
   "metadata": {},
   "source": [
    "### Valores Nulos"
   ]
  },
  {
   "cell_type": "code",
   "execution_count": 77,
   "id": "f247a7f8",
   "metadata": {
    "ExecuteTime": {
     "end_time": "2022-10-14T12:51:53.061525Z",
     "start_time": "2022-10-14T12:51:53.054524Z"
    }
   },
   "outputs": [
    {
     "data": {
      "text/plain": [
       "id               0\n",
       "date             0\n",
       "price            0\n",
       "bedrooms         0\n",
       "bathrooms        0\n",
       "sqft_living      0\n",
       "sqft_lot         0\n",
       "floors           0\n",
       "waterfront       0\n",
       "view             0\n",
       "condition        0\n",
       "grade            0\n",
       "sqft_above       0\n",
       "sqft_basement    0\n",
       "yr_built         0\n",
       "yr_renovated     0\n",
       "zipcode          0\n",
       "lat              0\n",
       "long             0\n",
       "sqft_living15    0\n",
       "sqft_lot15       0\n",
       "dtype: int64"
      ]
     },
     "execution_count": 77,
     "metadata": {},
     "output_type": "execute_result"
    }
   ],
   "source": [
    "df.isna().sum()"
   ]
  },
  {
   "cell_type": "markdown",
   "id": "5b0c1235",
   "metadata": {},
   "source": [
    "Não temos nenhum dado nulo/faltante no conjunto de dados."
   ]
  },
  {
   "cell_type": "markdown",
   "id": "0033a97b",
   "metadata": {},
   "source": [
    "### Registros Duplicados"
   ]
  },
  {
   "cell_type": "code",
   "execution_count": 78,
   "id": "3368932e",
   "metadata": {
    "ExecuteTime": {
     "end_time": "2022-10-14T12:51:54.885123Z",
     "start_time": "2022-10-14T12:51:54.880123Z"
    }
   },
   "outputs": [
    {
     "name": "stdout",
     "output_type": "stream",
     "text": [
      "Número de registros =  21613\n",
      "Número de ids únicos = 21436\n"
     ]
    }
   ],
   "source": [
    "print(f'Número de registros =  {df.shape[0]}')\n",
    "print(f\"Número de ids únicos = {df['id'].unique().shape[0]}\")"
   ]
  },
  {
   "cell_type": "markdown",
   "id": "87f12d4a",
   "metadata": {},
   "source": [
    "Temos 177 registros duplicados no conjunto de dados, então irei removê-los"
   ]
  },
  {
   "cell_type": "code",
   "execution_count": 79,
   "id": "6f69308d",
   "metadata": {
    "ExecuteTime": {
     "end_time": "2022-10-14T12:51:57.360121Z",
     "start_time": "2022-10-14T12:51:57.351119Z"
    }
   },
   "outputs": [
    {
     "name": "stdout",
     "output_type": "stream",
     "text": [
      "Novo número de registros = 21436\n"
     ]
    }
   ],
   "source": [
    "df = df.drop_duplicates(subset = 'id', keep = 'last')\n",
    "print(f'Novo número de registros = {df.shape[0]}')"
   ]
  },
  {
   "cell_type": "markdown",
   "id": "94cdd6be",
   "metadata": {},
   "source": [
    "### Removendo colunas"
   ]
  },
  {
   "cell_type": "code",
   "execution_count": 80,
   "id": "8e8b6825",
   "metadata": {
    "ExecuteTime": {
     "end_time": "2022-10-14T12:51:59.683456Z",
     "start_time": "2022-10-14T12:51:59.681456Z"
    }
   },
   "outputs": [
    {
     "name": "stdout",
     "output_type": "stream",
     "text": [
      "21\n",
      "Index(['id', 'date', 'price', 'bedrooms', 'bathrooms', 'sqft_living',\n",
      "       'sqft_lot', 'floors', 'waterfront', 'view', 'condition', 'grade',\n",
      "       'sqft_above', 'sqft_basement', 'yr_built', 'yr_renovated', 'zipcode',\n",
      "       'lat', 'long', 'sqft_living15', 'sqft_lot15'],\n",
      "      dtype='object')\n"
     ]
    }
   ],
   "source": [
    "print(df.shape[1])\n",
    "print(df.columns)"
   ]
  },
  {
   "cell_type": "code",
   "execution_count": 81,
   "id": "08e7ad5c",
   "metadata": {
    "ExecuteTime": {
     "end_time": "2022-10-14T12:52:00.536647Z",
     "start_time": "2022-10-14T12:52:00.532646Z"
    }
   },
   "outputs": [],
   "source": [
    "df = df.drop(['sqft_living15', 'sqft_lot15'], axis = 1)"
   ]
  },
  {
   "cell_type": "markdown",
   "id": "294fe639",
   "metadata": {},
   "source": [
    "Essas duas colunas não agregam muitas coisas na análise, então optei por removê-las do conjunto de dados."
   ]
  },
  {
   "cell_type": "code",
   "execution_count": 82,
   "id": "dbe50d41",
   "metadata": {
    "ExecuteTime": {
     "end_time": "2022-10-14T12:52:01.730913Z",
     "start_time": "2022-10-14T12:52:01.726913Z"
    }
   },
   "outputs": [
    {
     "name": "stdout",
     "output_type": "stream",
     "text": [
      "19\n",
      "Index(['id', 'date', 'price', 'bedrooms', 'bathrooms', 'sqft_living',\n",
      "       'sqft_lot', 'floors', 'waterfront', 'view', 'condition', 'grade',\n",
      "       'sqft_above', 'sqft_basement', 'yr_built', 'yr_renovated', 'zipcode',\n",
      "       'lat', 'long'],\n",
      "      dtype='object')\n"
     ]
    }
   ],
   "source": [
    "print(df.shape[1])\n",
    "print(df.columns)"
   ]
  },
  {
   "cell_type": "markdown",
   "id": "c5936019",
   "metadata": {},
   "source": [
    "### Estatística Descritiva"
   ]
  },
  {
   "cell_type": "markdown",
   "id": "29225d35",
   "metadata": {},
   "source": [
    "Nessa etapa irei elaborar um dataframe para analisar algumas métricas de estatística das colunas numéricas do conjunto de dados original."
   ]
  },
  {
   "cell_type": "code",
   "execution_count": 83,
   "id": "772871b4",
   "metadata": {
    "ExecuteTime": {
     "end_time": "2022-10-14T12:52:03.455299Z",
     "start_time": "2022-10-14T12:52:03.451299Z"
    }
   },
   "outputs": [],
   "source": [
    "df_numerical = df.select_dtypes(include=['int64', 'float64'])"
   ]
  },
  {
   "cell_type": "code",
   "execution_count": 84,
   "id": "8b26967e",
   "metadata": {
    "ExecuteTime": {
     "end_time": "2022-10-14T12:52:04.127449Z",
     "start_time": "2022-10-14T12:52:04.119448Z"
    }
   },
   "outputs": [
    {
     "data": {
      "text/html": [
       "<div>\n",
       "<style scoped>\n",
       "    .dataframe tbody tr th:only-of-type {\n",
       "        vertical-align: middle;\n",
       "    }\n",
       "\n",
       "    .dataframe tbody tr th {\n",
       "        vertical-align: top;\n",
       "    }\n",
       "\n",
       "    .dataframe thead th {\n",
       "        text-align: right;\n",
       "    }\n",
       "</style>\n",
       "<table border=\"1\" class=\"dataframe\">\n",
       "  <thead>\n",
       "    <tr style=\"text-align: right;\">\n",
       "      <th></th>\n",
       "      <th>id</th>\n",
       "      <th>price</th>\n",
       "      <th>bedrooms</th>\n",
       "      <th>bathrooms</th>\n",
       "      <th>sqft_living</th>\n",
       "      <th>sqft_lot</th>\n",
       "      <th>floors</th>\n",
       "      <th>view</th>\n",
       "      <th>condition</th>\n",
       "      <th>grade</th>\n",
       "      <th>sqft_above</th>\n",
       "      <th>sqft_basement</th>\n",
       "      <th>yr_built</th>\n",
       "      <th>yr_renovated</th>\n",
       "      <th>zipcode</th>\n",
       "      <th>lat</th>\n",
       "      <th>long</th>\n",
       "    </tr>\n",
       "  </thead>\n",
       "  <tbody>\n",
       "    <tr>\n",
       "      <th>0</th>\n",
       "      <td>7129300520</td>\n",
       "      <td>221900.00</td>\n",
       "      <td>3</td>\n",
       "      <td>1.00</td>\n",
       "      <td>1180</td>\n",
       "      <td>5650</td>\n",
       "      <td>1.00</td>\n",
       "      <td>0</td>\n",
       "      <td>3</td>\n",
       "      <td>7</td>\n",
       "      <td>1180</td>\n",
       "      <td>0</td>\n",
       "      <td>1955</td>\n",
       "      <td>0</td>\n",
       "      <td>98178</td>\n",
       "      <td>47.51</td>\n",
       "      <td>-122.26</td>\n",
       "    </tr>\n",
       "    <tr>\n",
       "      <th>1</th>\n",
       "      <td>6414100192</td>\n",
       "      <td>538000.00</td>\n",
       "      <td>3</td>\n",
       "      <td>2.25</td>\n",
       "      <td>2570</td>\n",
       "      <td>7242</td>\n",
       "      <td>2.00</td>\n",
       "      <td>0</td>\n",
       "      <td>3</td>\n",
       "      <td>7</td>\n",
       "      <td>2170</td>\n",
       "      <td>400</td>\n",
       "      <td>1951</td>\n",
       "      <td>1991</td>\n",
       "      <td>98125</td>\n",
       "      <td>47.72</td>\n",
       "      <td>-122.32</td>\n",
       "    </tr>\n",
       "    <tr>\n",
       "      <th>2</th>\n",
       "      <td>5631500400</td>\n",
       "      <td>180000.00</td>\n",
       "      <td>2</td>\n",
       "      <td>1.00</td>\n",
       "      <td>770</td>\n",
       "      <td>10000</td>\n",
       "      <td>1.00</td>\n",
       "      <td>0</td>\n",
       "      <td>3</td>\n",
       "      <td>6</td>\n",
       "      <td>770</td>\n",
       "      <td>0</td>\n",
       "      <td>1933</td>\n",
       "      <td>0</td>\n",
       "      <td>98028</td>\n",
       "      <td>47.74</td>\n",
       "      <td>-122.23</td>\n",
       "    </tr>\n",
       "    <tr>\n",
       "      <th>3</th>\n",
       "      <td>2487200875</td>\n",
       "      <td>604000.00</td>\n",
       "      <td>4</td>\n",
       "      <td>3.00</td>\n",
       "      <td>1960</td>\n",
       "      <td>5000</td>\n",
       "      <td>1.00</td>\n",
       "      <td>0</td>\n",
       "      <td>5</td>\n",
       "      <td>7</td>\n",
       "      <td>1050</td>\n",
       "      <td>910</td>\n",
       "      <td>1965</td>\n",
       "      <td>0</td>\n",
       "      <td>98136</td>\n",
       "      <td>47.52</td>\n",
       "      <td>-122.39</td>\n",
       "    </tr>\n",
       "    <tr>\n",
       "      <th>4</th>\n",
       "      <td>1954400510</td>\n",
       "      <td>510000.00</td>\n",
       "      <td>3</td>\n",
       "      <td>2.00</td>\n",
       "      <td>1680</td>\n",
       "      <td>8080</td>\n",
       "      <td>1.00</td>\n",
       "      <td>0</td>\n",
       "      <td>3</td>\n",
       "      <td>8</td>\n",
       "      <td>1680</td>\n",
       "      <td>0</td>\n",
       "      <td>1987</td>\n",
       "      <td>0</td>\n",
       "      <td>98074</td>\n",
       "      <td>47.62</td>\n",
       "      <td>-122.05</td>\n",
       "    </tr>\n",
       "  </tbody>\n",
       "</table>\n",
       "</div>"
      ],
      "text/plain": [
       "           id     price  bedrooms  bathrooms  sqft_living  sqft_lot  floors  \\\n",
       "0  7129300520 221900.00         3       1.00         1180      5650    1.00   \n",
       "1  6414100192 538000.00         3       2.25         2570      7242    2.00   \n",
       "2  5631500400 180000.00         2       1.00          770     10000    1.00   \n",
       "3  2487200875 604000.00         4       3.00         1960      5000    1.00   \n",
       "4  1954400510 510000.00         3       2.00         1680      8080    1.00   \n",
       "\n",
       "   view  condition  grade  sqft_above  sqft_basement  yr_built  yr_renovated  \\\n",
       "0     0          3      7        1180              0      1955             0   \n",
       "1     0          3      7        2170            400      1951          1991   \n",
       "2     0          3      6         770              0      1933             0   \n",
       "3     0          5      7        1050            910      1965             0   \n",
       "4     0          3      8        1680              0      1987             0   \n",
       "\n",
       "   zipcode   lat    long  \n",
       "0    98178 47.51 -122.26  \n",
       "1    98125 47.72 -122.32  \n",
       "2    98028 47.74 -122.23  \n",
       "3    98136 47.52 -122.39  \n",
       "4    98074 47.62 -122.05  "
      ]
     },
     "execution_count": 84,
     "metadata": {},
     "output_type": "execute_result"
    }
   ],
   "source": [
    "df_numerical.head()"
   ]
  },
  {
   "cell_type": "code",
   "execution_count": 85,
   "id": "9fc94667",
   "metadata": {
    "ExecuteTime": {
     "end_time": "2022-10-14T12:52:05.755814Z",
     "start_time": "2022-10-14T12:52:05.751813Z"
    }
   },
   "outputs": [],
   "source": [
    "df_numerical = df_numerical.drop(['id', 'view', 'zipcode', 'lat', 'long'], axis = 1)"
   ]
  },
  {
   "cell_type": "code",
   "execution_count": 86,
   "id": "eb9e5736",
   "metadata": {
    "ExecuteTime": {
     "end_time": "2022-10-14T12:52:06.424963Z",
     "start_time": "2022-10-14T12:52:06.416962Z"
    }
   },
   "outputs": [
    {
     "data": {
      "text/html": [
       "<div>\n",
       "<style scoped>\n",
       "    .dataframe tbody tr th:only-of-type {\n",
       "        vertical-align: middle;\n",
       "    }\n",
       "\n",
       "    .dataframe tbody tr th {\n",
       "        vertical-align: top;\n",
       "    }\n",
       "\n",
       "    .dataframe thead th {\n",
       "        text-align: right;\n",
       "    }\n",
       "</style>\n",
       "<table border=\"1\" class=\"dataframe\">\n",
       "  <thead>\n",
       "    <tr style=\"text-align: right;\">\n",
       "      <th></th>\n",
       "      <th>price</th>\n",
       "      <th>bedrooms</th>\n",
       "      <th>bathrooms</th>\n",
       "      <th>sqft_living</th>\n",
       "      <th>sqft_lot</th>\n",
       "      <th>floors</th>\n",
       "      <th>condition</th>\n",
       "      <th>grade</th>\n",
       "      <th>sqft_above</th>\n",
       "      <th>sqft_basement</th>\n",
       "      <th>yr_built</th>\n",
       "      <th>yr_renovated</th>\n",
       "    </tr>\n",
       "  </thead>\n",
       "  <tbody>\n",
       "    <tr>\n",
       "      <th>0</th>\n",
       "      <td>221900.00</td>\n",
       "      <td>3</td>\n",
       "      <td>1.00</td>\n",
       "      <td>1180</td>\n",
       "      <td>5650</td>\n",
       "      <td>1.00</td>\n",
       "      <td>3</td>\n",
       "      <td>7</td>\n",
       "      <td>1180</td>\n",
       "      <td>0</td>\n",
       "      <td>1955</td>\n",
       "      <td>0</td>\n",
       "    </tr>\n",
       "    <tr>\n",
       "      <th>1</th>\n",
       "      <td>538000.00</td>\n",
       "      <td>3</td>\n",
       "      <td>2.25</td>\n",
       "      <td>2570</td>\n",
       "      <td>7242</td>\n",
       "      <td>2.00</td>\n",
       "      <td>3</td>\n",
       "      <td>7</td>\n",
       "      <td>2170</td>\n",
       "      <td>400</td>\n",
       "      <td>1951</td>\n",
       "      <td>1991</td>\n",
       "    </tr>\n",
       "    <tr>\n",
       "      <th>2</th>\n",
       "      <td>180000.00</td>\n",
       "      <td>2</td>\n",
       "      <td>1.00</td>\n",
       "      <td>770</td>\n",
       "      <td>10000</td>\n",
       "      <td>1.00</td>\n",
       "      <td>3</td>\n",
       "      <td>6</td>\n",
       "      <td>770</td>\n",
       "      <td>0</td>\n",
       "      <td>1933</td>\n",
       "      <td>0</td>\n",
       "    </tr>\n",
       "    <tr>\n",
       "      <th>3</th>\n",
       "      <td>604000.00</td>\n",
       "      <td>4</td>\n",
       "      <td>3.00</td>\n",
       "      <td>1960</td>\n",
       "      <td>5000</td>\n",
       "      <td>1.00</td>\n",
       "      <td>5</td>\n",
       "      <td>7</td>\n",
       "      <td>1050</td>\n",
       "      <td>910</td>\n",
       "      <td>1965</td>\n",
       "      <td>0</td>\n",
       "    </tr>\n",
       "    <tr>\n",
       "      <th>4</th>\n",
       "      <td>510000.00</td>\n",
       "      <td>3</td>\n",
       "      <td>2.00</td>\n",
       "      <td>1680</td>\n",
       "      <td>8080</td>\n",
       "      <td>1.00</td>\n",
       "      <td>3</td>\n",
       "      <td>8</td>\n",
       "      <td>1680</td>\n",
       "      <td>0</td>\n",
       "      <td>1987</td>\n",
       "      <td>0</td>\n",
       "    </tr>\n",
       "  </tbody>\n",
       "</table>\n",
       "</div>"
      ],
      "text/plain": [
       "      price  bedrooms  bathrooms  sqft_living  sqft_lot  floors  condition  \\\n",
       "0 221900.00         3       1.00         1180      5650    1.00          3   \n",
       "1 538000.00         3       2.25         2570      7242    2.00          3   \n",
       "2 180000.00         2       1.00          770     10000    1.00          3   \n",
       "3 604000.00         4       3.00         1960      5000    1.00          5   \n",
       "4 510000.00         3       2.00         1680      8080    1.00          3   \n",
       "\n",
       "   grade  sqft_above  sqft_basement  yr_built  yr_renovated  \n",
       "0      7        1180              0      1955             0  \n",
       "1      7        2170            400      1951          1991  \n",
       "2      6         770              0      1933             0  \n",
       "3      7        1050            910      1965             0  \n",
       "4      8        1680              0      1987             0  "
      ]
     },
     "execution_count": 86,
     "metadata": {},
     "output_type": "execute_result"
    }
   ],
   "source": [
    "df_numerical.head()"
   ]
  },
  {
   "cell_type": "code",
   "execution_count": 87,
   "id": "a52fdec1",
   "metadata": {
    "ExecuteTime": {
     "end_time": "2022-10-14T12:52:07.220141Z",
     "start_time": "2022-10-14T12:52:07.111117Z"
    }
   },
   "outputs": [],
   "source": [
    "df_mean = pd.DataFrame(df_numerical.apply(np.mean)).T\n",
    "df_median = pd.DataFrame(df_numerical.apply(np.median)).T\n",
    "df_std = pd.DataFrame(df_numerical.apply(np.std)).T\n",
    "df_min = pd.DataFrame(df_numerical.apply(min)).T\n",
    "df_max = pd.DataFrame(df_numerical.apply(max)).T\n",
    "df_range = pd.DataFrame(df_numerical.apply(lambda x: x.max() - x.min())).T\n",
    "df_skew = pd.DataFrame(df_numerical.apply(lambda x: x.skew())).T\n",
    "df_kurtosis = pd.DataFrame(df_numerical.apply(lambda x: x.kurtosis())).T"
   ]
  },
  {
   "cell_type": "code",
   "execution_count": 88,
   "id": "7f0b4b25",
   "metadata": {
    "ExecuteTime": {
     "end_time": "2022-10-14T12:52:08.376400Z",
     "start_time": "2022-10-14T12:52:08.364398Z"
    }
   },
   "outputs": [
    {
     "data": {
      "text/html": [
       "<div>\n",
       "<style scoped>\n",
       "    .dataframe tbody tr th:only-of-type {\n",
       "        vertical-align: middle;\n",
       "    }\n",
       "\n",
       "    .dataframe tbody tr th {\n",
       "        vertical-align: top;\n",
       "    }\n",
       "\n",
       "    .dataframe thead th {\n",
       "        text-align: right;\n",
       "    }\n",
       "</style>\n",
       "<table border=\"1\" class=\"dataframe\">\n",
       "  <thead>\n",
       "    <tr style=\"text-align: right;\">\n",
       "      <th></th>\n",
       "      <th>attributes</th>\n",
       "      <th>min</th>\n",
       "      <th>max</th>\n",
       "      <th>range</th>\n",
       "      <th>mean</th>\n",
       "      <th>median</th>\n",
       "      <th>std</th>\n",
       "      <th>skew</th>\n",
       "      <th>kurtosis</th>\n",
       "    </tr>\n",
       "  </thead>\n",
       "  <tbody>\n",
       "    <tr>\n",
       "      <th>0</th>\n",
       "      <td>price</td>\n",
       "      <td>75000.00</td>\n",
       "      <td>7700000.00</td>\n",
       "      <td>7625000.00</td>\n",
       "      <td>541649.96</td>\n",
       "      <td>450000.00</td>\n",
       "      <td>367306.36</td>\n",
       "      <td>4.04</td>\n",
       "      <td>34.73</td>\n",
       "    </tr>\n",
       "    <tr>\n",
       "      <th>1</th>\n",
       "      <td>bedrooms</td>\n",
       "      <td>0.00</td>\n",
       "      <td>33.00</td>\n",
       "      <td>33.00</td>\n",
       "      <td>3.37</td>\n",
       "      <td>3.00</td>\n",
       "      <td>0.93</td>\n",
       "      <td>1.99</td>\n",
       "      <td>49.64</td>\n",
       "    </tr>\n",
       "    <tr>\n",
       "      <th>2</th>\n",
       "      <td>bathrooms</td>\n",
       "      <td>0.00</td>\n",
       "      <td>8.00</td>\n",
       "      <td>8.00</td>\n",
       "      <td>2.12</td>\n",
       "      <td>2.25</td>\n",
       "      <td>0.77</td>\n",
       "      <td>0.51</td>\n",
       "      <td>1.29</td>\n",
       "    </tr>\n",
       "    <tr>\n",
       "      <th>3</th>\n",
       "      <td>sqft_living</td>\n",
       "      <td>290.00</td>\n",
       "      <td>13540.00</td>\n",
       "      <td>13250.00</td>\n",
       "      <td>2082.70</td>\n",
       "      <td>1920.00</td>\n",
       "      <td>919.13</td>\n",
       "      <td>1.47</td>\n",
       "      <td>5.25</td>\n",
       "    </tr>\n",
       "    <tr>\n",
       "      <th>4</th>\n",
       "      <td>sqft_lot</td>\n",
       "      <td>520.00</td>\n",
       "      <td>1651359.00</td>\n",
       "      <td>1650839.00</td>\n",
       "      <td>15135.64</td>\n",
       "      <td>7614.00</td>\n",
       "      <td>41537.65</td>\n",
       "      <td>13.04</td>\n",
       "      <td>284.08</td>\n",
       "    </tr>\n",
       "    <tr>\n",
       "      <th>5</th>\n",
       "      <td>floors</td>\n",
       "      <td>1.00</td>\n",
       "      <td>3.50</td>\n",
       "      <td>2.50</td>\n",
       "      <td>1.50</td>\n",
       "      <td>1.50</td>\n",
       "      <td>0.54</td>\n",
       "      <td>0.61</td>\n",
       "      <td>-0.49</td>\n",
       "    </tr>\n",
       "    <tr>\n",
       "      <th>6</th>\n",
       "      <td>condition</td>\n",
       "      <td>1.00</td>\n",
       "      <td>5.00</td>\n",
       "      <td>4.00</td>\n",
       "      <td>3.41</td>\n",
       "      <td>3.00</td>\n",
       "      <td>0.65</td>\n",
       "      <td>1.04</td>\n",
       "      <td>0.52</td>\n",
       "    </tr>\n",
       "    <tr>\n",
       "      <th>7</th>\n",
       "      <td>grade</td>\n",
       "      <td>1.00</td>\n",
       "      <td>13.00</td>\n",
       "      <td>12.00</td>\n",
       "      <td>7.66</td>\n",
       "      <td>7.00</td>\n",
       "      <td>1.17</td>\n",
       "      <td>0.77</td>\n",
       "      <td>1.19</td>\n",
       "    </tr>\n",
       "    <tr>\n",
       "      <th>8</th>\n",
       "      <td>sqft_above</td>\n",
       "      <td>290.00</td>\n",
       "      <td>9410.00</td>\n",
       "      <td>9120.00</td>\n",
       "      <td>1790.96</td>\n",
       "      <td>1560.00</td>\n",
       "      <td>829.01</td>\n",
       "      <td>1.44</td>\n",
       "      <td>3.40</td>\n",
       "    </tr>\n",
       "    <tr>\n",
       "      <th>9</th>\n",
       "      <td>sqft_basement</td>\n",
       "      <td>0.00</td>\n",
       "      <td>4820.00</td>\n",
       "      <td>4820.00</td>\n",
       "      <td>291.74</td>\n",
       "      <td>0.00</td>\n",
       "      <td>442.77</td>\n",
       "      <td>1.58</td>\n",
       "      <td>2.71</td>\n",
       "    </tr>\n",
       "    <tr>\n",
       "      <th>10</th>\n",
       "      <td>yr_built</td>\n",
       "      <td>1900.00</td>\n",
       "      <td>2015.00</td>\n",
       "      <td>115.00</td>\n",
       "      <td>1971.10</td>\n",
       "      <td>1975.00</td>\n",
       "      <td>29.38</td>\n",
       "      <td>-0.47</td>\n",
       "      <td>-0.65</td>\n",
       "    </tr>\n",
       "    <tr>\n",
       "      <th>11</th>\n",
       "      <td>yr_renovated</td>\n",
       "      <td>0.00</td>\n",
       "      <td>2015.00</td>\n",
       "      <td>2015.00</td>\n",
       "      <td>84.73</td>\n",
       "      <td>0.00</td>\n",
       "      <td>402.42</td>\n",
       "      <td>4.54</td>\n",
       "      <td>18.61</td>\n",
       "    </tr>\n",
       "  </tbody>\n",
       "</table>\n",
       "</div>"
      ],
      "text/plain": [
       "       attributes      min        max      range      mean    median  \\\n",
       "0           price 75000.00 7700000.00 7625000.00 541649.96 450000.00   \n",
       "1        bedrooms     0.00      33.00      33.00      3.37      3.00   \n",
       "2       bathrooms     0.00       8.00       8.00      2.12      2.25   \n",
       "3     sqft_living   290.00   13540.00   13250.00   2082.70   1920.00   \n",
       "4        sqft_lot   520.00 1651359.00 1650839.00  15135.64   7614.00   \n",
       "5          floors     1.00       3.50       2.50      1.50      1.50   \n",
       "6       condition     1.00       5.00       4.00      3.41      3.00   \n",
       "7           grade     1.00      13.00      12.00      7.66      7.00   \n",
       "8      sqft_above   290.00    9410.00    9120.00   1790.96   1560.00   \n",
       "9   sqft_basement     0.00    4820.00    4820.00    291.74      0.00   \n",
       "10       yr_built  1900.00    2015.00     115.00   1971.10   1975.00   \n",
       "11   yr_renovated     0.00    2015.00    2015.00     84.73      0.00   \n",
       "\n",
       "         std  skew  kurtosis  \n",
       "0  367306.36  4.04     34.73  \n",
       "1       0.93  1.99     49.64  \n",
       "2       0.77  0.51      1.29  \n",
       "3     919.13  1.47      5.25  \n",
       "4   41537.65 13.04    284.08  \n",
       "5       0.54  0.61     -0.49  \n",
       "6       0.65  1.04      0.52  \n",
       "7       1.17  0.77      1.19  \n",
       "8     829.01  1.44      3.40  \n",
       "9     442.77  1.58      2.71  \n",
       "10     29.38 -0.47     -0.65  \n",
       "11    402.42  4.54     18.61  "
      ]
     },
     "execution_count": 88,
     "metadata": {},
     "output_type": "execute_result"
    }
   ],
   "source": [
    "df_desc = pd.concat([df_min, df_max, df_range, df_mean, df_median, df_std, df_skew, df_kurtosis]).T.reset_index()\n",
    "df_desc.columns = ['attributes','min','max','range','mean','median','std','skew','kurtosis']\n",
    "df_desc"
   ]
  },
  {
   "cell_type": "markdown",
   "id": "1157e000",
   "metadata": {},
   "source": [
    "Analisando os dados acima, podemos verificar o seguinte: \n",
    "- Existe(m) um ou mais imóveis com nenhum quarto\n",
    "- Existe(m) um ou mais imóveis com 33 quartos\n",
    "- Existe(m) um ou mais imóveis com nenhum banheiro\n",
    "- Existe(m) um ou mais imóveis com 8 banheiros"
   ]
  },
  {
   "cell_type": "markdown",
   "id": "4bf35d7b",
   "metadata": {},
   "source": [
    "### Filtrando Valores"
   ]
  },
  {
   "cell_type": "markdown",
   "id": "3f09de89",
   "metadata": {},
   "source": [
    "Diante das constatações acima, irei analisar melhor a relação entre tamanho do imóvel e o número de quartos e banheiros para verificar se são *outliers*."
   ]
  },
  {
   "cell_type": "code",
   "execution_count": 89,
   "id": "ef99b6ec",
   "metadata": {
    "ExecuteTime": {
     "end_time": "2022-10-14T12:52:11.104010Z",
     "start_time": "2022-10-14T12:52:11.094008Z"
    }
   },
   "outputs": [
    {
     "data": {
      "text/html": [
       "<div>\n",
       "<style scoped>\n",
       "    .dataframe tbody tr th:only-of-type {\n",
       "        vertical-align: middle;\n",
       "    }\n",
       "\n",
       "    .dataframe tbody tr th {\n",
       "        vertical-align: top;\n",
       "    }\n",
       "\n",
       "    .dataframe thead th {\n",
       "        text-align: right;\n",
       "    }\n",
       "</style>\n",
       "<table border=\"1\" class=\"dataframe\">\n",
       "  <thead>\n",
       "    <tr style=\"text-align: right;\">\n",
       "      <th></th>\n",
       "      <th>bedrooms</th>\n",
       "      <th>mean_sqft</th>\n",
       "      <th>qty</th>\n",
       "    </tr>\n",
       "  </thead>\n",
       "  <tbody>\n",
       "    <tr>\n",
       "      <th>0</th>\n",
       "      <td>0</td>\n",
       "      <td>1707.85</td>\n",
       "      <td>13</td>\n",
       "    </tr>\n",
       "    <tr>\n",
       "      <th>1</th>\n",
       "      <td>1</td>\n",
       "      <td>884.94</td>\n",
       "      <td>194</td>\n",
       "    </tr>\n",
       "    <tr>\n",
       "      <th>2</th>\n",
       "      <td>2</td>\n",
       "      <td>1240.54</td>\n",
       "      <td>2736</td>\n",
       "    </tr>\n",
       "    <tr>\n",
       "      <th>3</th>\n",
       "      <td>3</td>\n",
       "      <td>1807.60</td>\n",
       "      <td>9731</td>\n",
       "    </tr>\n",
       "    <tr>\n",
       "      <th>4</th>\n",
       "      <td>4</td>\n",
       "      <td>2556.00</td>\n",
       "      <td>6849</td>\n",
       "    </tr>\n",
       "    <tr>\n",
       "      <th>5</th>\n",
       "      <td>5</td>\n",
       "      <td>3054.82</td>\n",
       "      <td>1586</td>\n",
       "    </tr>\n",
       "    <tr>\n",
       "      <th>6</th>\n",
       "      <td>6</td>\n",
       "      <td>3310.76</td>\n",
       "      <td>265</td>\n",
       "    </tr>\n",
       "    <tr>\n",
       "      <th>7</th>\n",
       "      <td>7</td>\n",
       "      <td>3974.21</td>\n",
       "      <td>38</td>\n",
       "    </tr>\n",
       "    <tr>\n",
       "      <th>8</th>\n",
       "      <td>8</td>\n",
       "      <td>3800.00</td>\n",
       "      <td>13</td>\n",
       "    </tr>\n",
       "    <tr>\n",
       "      <th>9</th>\n",
       "      <td>9</td>\n",
       "      <td>3775.00</td>\n",
       "      <td>6</td>\n",
       "    </tr>\n",
       "    <tr>\n",
       "      <th>10</th>\n",
       "      <td>10</td>\n",
       "      <td>3706.67</td>\n",
       "      <td>3</td>\n",
       "    </tr>\n",
       "    <tr>\n",
       "      <th>11</th>\n",
       "      <td>11</td>\n",
       "      <td>3000.00</td>\n",
       "      <td>1</td>\n",
       "    </tr>\n",
       "    <tr>\n",
       "      <th>12</th>\n",
       "      <td>33</td>\n",
       "      <td>1620.00</td>\n",
       "      <td>1</td>\n",
       "    </tr>\n",
       "  </tbody>\n",
       "</table>\n",
       "</div>"
      ],
      "text/plain": [
       "    bedrooms  mean_sqft   qty\n",
       "0          0    1707.85    13\n",
       "1          1     884.94   194\n",
       "2          2    1240.54  2736\n",
       "3          3    1807.60  9731\n",
       "4          4    2556.00  6849\n",
       "5          5    3054.82  1586\n",
       "6          6    3310.76   265\n",
       "7          7    3974.21    38\n",
       "8          8    3800.00    13\n",
       "9          9    3775.00     6\n",
       "10        10    3706.67     3\n",
       "11        11    3000.00     1\n",
       "12        33    1620.00     1"
      ]
     },
     "execution_count": 89,
     "metadata": {},
     "output_type": "execute_result"
    }
   ],
   "source": [
    "rooms_sqft = df[['bedrooms','sqft_living']].groupby('bedrooms')\n",
    "rooms_sqft = rooms_sqft.agg(\n",
    "                mean_sqft = pd.NamedAgg('sqft_living', 'mean'),\n",
    "                qty = pd.NamedAgg('sqft_living', 'count')\n",
    "                ).reset_index()\n",
    "rooms_sqft"
   ]
  },
  {
   "cell_type": "markdown",
   "id": "6de973fa",
   "metadata": {},
   "source": [
    "Analisando a tabela acima, vemos que existem imóveis com nenhum quarto e um tamanho considerável, assim como existe 01 imóvel com 11 quartos e 01 imóvel com 33 quartos, sendo os dois incompatíveis com o seus respectivos tamanhos. \n",
    "\n",
    "Por isso, vou remover esses registros do conjunto de dados."
   ]
  },
  {
   "cell_type": "code",
   "execution_count": 90,
   "id": "4cd32e89",
   "metadata": {
    "ExecuteTime": {
     "end_time": "2022-10-14T12:52:14.881854Z",
     "start_time": "2022-10-14T12:52:14.875853Z"
    }
   },
   "outputs": [],
   "source": [
    "df = df[(df['bedrooms']!=0) & (df['bedrooms']!=11) & (df['bedrooms']!=33)]"
   ]
  },
  {
   "cell_type": "code",
   "execution_count": 91,
   "id": "86f7098f",
   "metadata": {
    "ExecuteTime": {
     "end_time": "2022-10-14T12:52:15.738046Z",
     "start_time": "2022-10-14T12:52:15.727051Z"
    }
   },
   "outputs": [
    {
     "data": {
      "text/html": [
       "<div>\n",
       "<style scoped>\n",
       "    .dataframe tbody tr th:only-of-type {\n",
       "        vertical-align: middle;\n",
       "    }\n",
       "\n",
       "    .dataframe tbody tr th {\n",
       "        vertical-align: top;\n",
       "    }\n",
       "\n",
       "    .dataframe thead th {\n",
       "        text-align: right;\n",
       "    }\n",
       "</style>\n",
       "<table border=\"1\" class=\"dataframe\">\n",
       "  <thead>\n",
       "    <tr style=\"text-align: right;\">\n",
       "      <th></th>\n",
       "      <th>bathrooms</th>\n",
       "      <th>mean_sqft</th>\n",
       "      <th>qty</th>\n",
       "    </tr>\n",
       "  </thead>\n",
       "  <tbody>\n",
       "    <tr>\n",
       "      <th>0</th>\n",
       "      <td>0.00</td>\n",
       "      <td>653.33</td>\n",
       "      <td>3</td>\n",
       "    </tr>\n",
       "    <tr>\n",
       "      <th>1</th>\n",
       "      <td>0.50</td>\n",
       "      <td>1235.00</td>\n",
       "      <td>4</td>\n",
       "    </tr>\n",
       "    <tr>\n",
       "      <th>2</th>\n",
       "      <td>0.75</td>\n",
       "      <td>904.74</td>\n",
       "      <td>70</td>\n",
       "    </tr>\n",
       "    <tr>\n",
       "      <th>3</th>\n",
       "      <td>1.00</td>\n",
       "      <td>1181.52</td>\n",
       "      <td>3794</td>\n",
       "    </tr>\n",
       "    <tr>\n",
       "      <th>4</th>\n",
       "      <td>1.25</td>\n",
       "      <td>1525.56</td>\n",
       "      <td>9</td>\n",
       "    </tr>\n",
       "    <tr>\n",
       "      <th>5</th>\n",
       "      <td>1.50</td>\n",
       "      <td>1545.06</td>\n",
       "      <td>1429</td>\n",
       "    </tr>\n",
       "    <tr>\n",
       "      <th>6</th>\n",
       "      <td>1.75</td>\n",
       "      <td>1788.02</td>\n",
       "      <td>3019</td>\n",
       "    </tr>\n",
       "    <tr>\n",
       "      <th>7</th>\n",
       "      <td>2.00</td>\n",
       "      <td>1797.89</td>\n",
       "      <td>1913</td>\n",
       "    </tr>\n",
       "    <tr>\n",
       "      <th>8</th>\n",
       "      <td>2.25</td>\n",
       "      <td>2098.34</td>\n",
       "      <td>2031</td>\n",
       "    </tr>\n",
       "    <tr>\n",
       "      <th>9</th>\n",
       "      <td>2.50</td>\n",
       "      <td>2379.07</td>\n",
       "      <td>5352</td>\n",
       "    </tr>\n",
       "    <tr>\n",
       "      <th>10</th>\n",
       "      <td>2.75</td>\n",
       "      <td>2671.36</td>\n",
       "      <td>1182</td>\n",
       "    </tr>\n",
       "    <tr>\n",
       "      <th>11</th>\n",
       "      <td>3.00</td>\n",
       "      <td>2733.34</td>\n",
       "      <td>746</td>\n",
       "    </tr>\n",
       "    <tr>\n",
       "      <th>12</th>\n",
       "      <td>3.25</td>\n",
       "      <td>3218.65</td>\n",
       "      <td>586</td>\n",
       "    </tr>\n",
       "    <tr>\n",
       "      <th>13</th>\n",
       "      <td>3.50</td>\n",
       "      <td>3410.42</td>\n",
       "      <td>729</td>\n",
       "    </tr>\n",
       "    <tr>\n",
       "      <th>14</th>\n",
       "      <td>3.75</td>\n",
       "      <td>3779.74</td>\n",
       "      <td>155</td>\n",
       "    </tr>\n",
       "    <tr>\n",
       "      <th>15</th>\n",
       "      <td>4.00</td>\n",
       "      <td>4094.88</td>\n",
       "      <td>134</td>\n",
       "    </tr>\n",
       "    <tr>\n",
       "      <th>16</th>\n",
       "      <td>4.25</td>\n",
       "      <td>4609.33</td>\n",
       "      <td>79</td>\n",
       "    </tr>\n",
       "    <tr>\n",
       "      <th>17</th>\n",
       "      <td>4.50</td>\n",
       "      <td>4415.09</td>\n",
       "      <td>99</td>\n",
       "    </tr>\n",
       "    <tr>\n",
       "      <th>18</th>\n",
       "      <td>4.75</td>\n",
       "      <td>5275.65</td>\n",
       "      <td>23</td>\n",
       "    </tr>\n",
       "    <tr>\n",
       "      <th>19</th>\n",
       "      <td>5.00</td>\n",
       "      <td>4851.86</td>\n",
       "      <td>21</td>\n",
       "    </tr>\n",
       "    <tr>\n",
       "      <th>20</th>\n",
       "      <td>5.25</td>\n",
       "      <td>5016.15</td>\n",
       "      <td>13</td>\n",
       "    </tr>\n",
       "    <tr>\n",
       "      <th>21</th>\n",
       "      <td>5.50</td>\n",
       "      <td>6506.00</td>\n",
       "      <td>10</td>\n",
       "    </tr>\n",
       "    <tr>\n",
       "      <th>22</th>\n",
       "      <td>5.75</td>\n",
       "      <td>6962.50</td>\n",
       "      <td>4</td>\n",
       "    </tr>\n",
       "    <tr>\n",
       "      <th>23</th>\n",
       "      <td>6.00</td>\n",
       "      <td>6443.33</td>\n",
       "      <td>6</td>\n",
       "    </tr>\n",
       "    <tr>\n",
       "      <th>24</th>\n",
       "      <td>6.25</td>\n",
       "      <td>8345.00</td>\n",
       "      <td>2</td>\n",
       "    </tr>\n",
       "    <tr>\n",
       "      <th>25</th>\n",
       "      <td>6.50</td>\n",
       "      <td>6765.00</td>\n",
       "      <td>2</td>\n",
       "    </tr>\n",
       "    <tr>\n",
       "      <th>26</th>\n",
       "      <td>6.75</td>\n",
       "      <td>8560.00</td>\n",
       "      <td>2</td>\n",
       "    </tr>\n",
       "    <tr>\n",
       "      <th>27</th>\n",
       "      <td>7.50</td>\n",
       "      <td>4050.00</td>\n",
       "      <td>1</td>\n",
       "    </tr>\n",
       "    <tr>\n",
       "      <th>28</th>\n",
       "      <td>7.75</td>\n",
       "      <td>9890.00</td>\n",
       "      <td>1</td>\n",
       "    </tr>\n",
       "    <tr>\n",
       "      <th>29</th>\n",
       "      <td>8.00</td>\n",
       "      <td>12795.00</td>\n",
       "      <td>2</td>\n",
       "    </tr>\n",
       "  </tbody>\n",
       "</table>\n",
       "</div>"
      ],
      "text/plain": [
       "    bathrooms  mean_sqft   qty\n",
       "0        0.00     653.33     3\n",
       "1        0.50    1235.00     4\n",
       "2        0.75     904.74    70\n",
       "3        1.00    1181.52  3794\n",
       "4        1.25    1525.56     9\n",
       "5        1.50    1545.06  1429\n",
       "6        1.75    1788.02  3019\n",
       "7        2.00    1797.89  1913\n",
       "8        2.25    2098.34  2031\n",
       "9        2.50    2379.07  5352\n",
       "10       2.75    2671.36  1182\n",
       "11       3.00    2733.34   746\n",
       "12       3.25    3218.65   586\n",
       "13       3.50    3410.42   729\n",
       "14       3.75    3779.74   155\n",
       "15       4.00    4094.88   134\n",
       "16       4.25    4609.33    79\n",
       "17       4.50    4415.09    99\n",
       "18       4.75    5275.65    23\n",
       "19       5.00    4851.86    21\n",
       "20       5.25    5016.15    13\n",
       "21       5.50    6506.00    10\n",
       "22       5.75    6962.50     4\n",
       "23       6.00    6443.33     6\n",
       "24       6.25    8345.00     2\n",
       "25       6.50    6765.00     2\n",
       "26       6.75    8560.00     2\n",
       "27       7.50    4050.00     1\n",
       "28       7.75    9890.00     1\n",
       "29       8.00   12795.00     2"
      ]
     },
     "execution_count": 91,
     "metadata": {},
     "output_type": "execute_result"
    }
   ],
   "source": [
    "bath_sqft = df[['bathrooms','sqft_living']].groupby('bathrooms')\n",
    "bath_sqft = bath_sqft.agg(\n",
    "                mean_sqft = pd.NamedAgg('sqft_living', 'mean'),\n",
    "                qty = pd.NamedAgg('sqft_living', 'count')\n",
    "                ).reset_index()\n",
    "bath_sqft"
   ]
  },
  {
   "cell_type": "markdown",
   "id": "e8f827ad",
   "metadata": {},
   "source": [
    "Quanto aos banheiros, a quantidade e o tamanho dos imóveis são compatíveis, então não irei remover nenhum registro do conjunto de dados."
   ]
  },
  {
   "cell_type": "markdown",
   "id": "4ea0a551",
   "metadata": {},
   "source": [
    "### Recomendações de Compra e Venda"
   ]
  },
  {
   "cell_type": "markdown",
   "id": "f5fca593",
   "metadata": {},
   "source": [
    "#### Preço Mediano por Região (zipcode)"
   ]
  },
  {
   "cell_type": "markdown",
   "id": "b3a3f01d",
   "metadata": {},
   "source": [
    "A ideia aqui é comparar o preço do anúncio com o preço mediano da região na qual o imóvel se encontra"
   ]
  },
  {
   "cell_type": "code",
   "execution_count": 92,
   "id": "947b3bca",
   "metadata": {
    "ExecuteTime": {
     "end_time": "2022-10-14T12:52:22.700603Z",
     "start_time": "2022-10-14T12:52:22.697603Z"
    }
   },
   "outputs": [],
   "source": [
    "df_aux = df.copy()"
   ]
  },
  {
   "cell_type": "code",
   "execution_count": 93,
   "id": "674a5325",
   "metadata": {
    "ExecuteTime": {
     "end_time": "2022-10-14T12:52:24.035901Z",
     "start_time": "2022-10-14T12:52:24.027907Z"
    }
   },
   "outputs": [
    {
     "data": {
      "text/html": [
       "<div>\n",
       "<style scoped>\n",
       "    .dataframe tbody tr th:only-of-type {\n",
       "        vertical-align: middle;\n",
       "    }\n",
       "\n",
       "    .dataframe tbody tr th {\n",
       "        vertical-align: top;\n",
       "    }\n",
       "\n",
       "    .dataframe thead th {\n",
       "        text-align: right;\n",
       "    }\n",
       "</style>\n",
       "<table border=\"1\" class=\"dataframe\">\n",
       "  <thead>\n",
       "    <tr style=\"text-align: right;\">\n",
       "      <th></th>\n",
       "      <th>zipcode</th>\n",
       "      <th>median_price</th>\n",
       "    </tr>\n",
       "  </thead>\n",
       "  <tbody>\n",
       "    <tr>\n",
       "      <th>0</th>\n",
       "      <td>98001</td>\n",
       "      <td>260000.00</td>\n",
       "    </tr>\n",
       "    <tr>\n",
       "      <th>1</th>\n",
       "      <td>98002</td>\n",
       "      <td>235000.00</td>\n",
       "    </tr>\n",
       "    <tr>\n",
       "      <th>2</th>\n",
       "      <td>98003</td>\n",
       "      <td>269500.00</td>\n",
       "    </tr>\n",
       "    <tr>\n",
       "      <th>3</th>\n",
       "      <td>98004</td>\n",
       "      <td>1150000.00</td>\n",
       "    </tr>\n",
       "    <tr>\n",
       "      <th>4</th>\n",
       "      <td>98005</td>\n",
       "      <td>765475.00</td>\n",
       "    </tr>\n",
       "  </tbody>\n",
       "</table>\n",
       "</div>"
      ],
      "text/plain": [
       "   zipcode  median_price\n",
       "0    98001     260000.00\n",
       "1    98002     235000.00\n",
       "2    98003     269500.00\n",
       "3    98004    1150000.00\n",
       "4    98005     765475.00"
      ]
     },
     "execution_count": 93,
     "metadata": {},
     "output_type": "execute_result"
    }
   ],
   "source": [
    "median_p = df_aux[['price', 'zipcode']].groupby('zipcode').median().reset_index().rename(columns = {'price': 'median_price'})\n",
    "median_p.head()"
   ]
  },
  {
   "cell_type": "code",
   "execution_count": 94,
   "id": "1cbc0f08",
   "metadata": {
    "ExecuteTime": {
     "end_time": "2022-10-14T12:52:26.089361Z",
     "start_time": "2022-10-14T12:52:26.077358Z"
    }
   },
   "outputs": [],
   "source": [
    "df_m = pd.merge(df_aux, median_p, on='zipcode', how='left')"
   ]
  },
  {
   "cell_type": "code",
   "execution_count": 95,
   "id": "b6d429fe",
   "metadata": {
    "ExecuteTime": {
     "end_time": "2022-10-14T12:52:27.032573Z",
     "start_time": "2022-10-14T12:52:27.023569Z"
    }
   },
   "outputs": [
    {
     "data": {
      "text/html": [
       "<div>\n",
       "<style scoped>\n",
       "    .dataframe tbody tr th:only-of-type {\n",
       "        vertical-align: middle;\n",
       "    }\n",
       "\n",
       "    .dataframe tbody tr th {\n",
       "        vertical-align: top;\n",
       "    }\n",
       "\n",
       "    .dataframe thead th {\n",
       "        text-align: right;\n",
       "    }\n",
       "</style>\n",
       "<table border=\"1\" class=\"dataframe\">\n",
       "  <thead>\n",
       "    <tr style=\"text-align: right;\">\n",
       "      <th></th>\n",
       "      <th>id</th>\n",
       "      <th>condition</th>\n",
       "      <th>price</th>\n",
       "      <th>zipcode</th>\n",
       "      <th>median_price</th>\n",
       "    </tr>\n",
       "  </thead>\n",
       "  <tbody>\n",
       "    <tr>\n",
       "      <th>0</th>\n",
       "      <td>7129300520</td>\n",
       "      <td>3</td>\n",
       "      <td>221900.00</td>\n",
       "      <td>98178</td>\n",
       "      <td>279500.00</td>\n",
       "    </tr>\n",
       "    <tr>\n",
       "      <th>1</th>\n",
       "      <td>6414100192</td>\n",
       "      <td>3</td>\n",
       "      <td>538000.00</td>\n",
       "      <td>98125</td>\n",
       "      <td>425000.00</td>\n",
       "    </tr>\n",
       "    <tr>\n",
       "      <th>2</th>\n",
       "      <td>5631500400</td>\n",
       "      <td>3</td>\n",
       "      <td>180000.00</td>\n",
       "      <td>98028</td>\n",
       "      <td>442500.00</td>\n",
       "    </tr>\n",
       "    <tr>\n",
       "      <th>3</th>\n",
       "      <td>2487200875</td>\n",
       "      <td>5</td>\n",
       "      <td>604000.00</td>\n",
       "      <td>98136</td>\n",
       "      <td>489950.00</td>\n",
       "    </tr>\n",
       "    <tr>\n",
       "      <th>4</th>\n",
       "      <td>1954400510</td>\n",
       "      <td>3</td>\n",
       "      <td>510000.00</td>\n",
       "      <td>98074</td>\n",
       "      <td>645000.00</td>\n",
       "    </tr>\n",
       "  </tbody>\n",
       "</table>\n",
       "</div>"
      ],
      "text/plain": [
       "           id  condition     price  zipcode  median_price\n",
       "0  7129300520          3 221900.00    98178     279500.00\n",
       "1  6414100192          3 538000.00    98125     425000.00\n",
       "2  5631500400          3 180000.00    98028     442500.00\n",
       "3  2487200875          5 604000.00    98136     489950.00\n",
       "4  1954400510          3 510000.00    98074     645000.00"
      ]
     },
     "execution_count": 95,
     "metadata": {},
     "output_type": "execute_result"
    }
   ],
   "source": [
    "df_m[['id', 'condition', 'price', 'zipcode', 'median_price']].head()"
   ]
  },
  {
   "cell_type": "markdown",
   "id": "7ba16804",
   "metadata": {},
   "source": [
    "#### Recomendação de Compra"
   ]
  },
  {
   "cell_type": "markdown",
   "id": "3365803b",
   "metadata": {},
   "source": [
    "Se o preço de anúncio do imóvel estiver menor que o preço mediano da região, a recomendação será de comprar o imóvel"
   ]
  },
  {
   "cell_type": "code",
   "execution_count": 96,
   "id": "88236f42",
   "metadata": {
    "ExecuteTime": {
     "end_time": "2022-10-14T12:52:36.060780Z",
     "start_time": "2022-10-14T12:52:35.751711Z"
    }
   },
   "outputs": [],
   "source": [
    "df_m['recommendation'] = df_m.apply(lambda row: 'buy' if (\n",
    "                                        row['price'] <= row['median_price']) & (row['condition'] >= 3)\n",
    "                                        else 'dont_buy', axis = 1)                "
   ]
  },
  {
   "cell_type": "code",
   "execution_count": 97,
   "id": "82c1a03f",
   "metadata": {
    "ExecuteTime": {
     "end_time": "2022-10-14T12:52:38.971874Z",
     "start_time": "2022-10-14T12:52:38.963873Z"
    }
   },
   "outputs": [
    {
     "data": {
      "text/html": [
       "<div>\n",
       "<style scoped>\n",
       "    .dataframe tbody tr th:only-of-type {\n",
       "        vertical-align: middle;\n",
       "    }\n",
       "\n",
       "    .dataframe tbody tr th {\n",
       "        vertical-align: top;\n",
       "    }\n",
       "\n",
       "    .dataframe thead th {\n",
       "        text-align: right;\n",
       "    }\n",
       "</style>\n",
       "<table border=\"1\" class=\"dataframe\">\n",
       "  <thead>\n",
       "    <tr style=\"text-align: right;\">\n",
       "      <th></th>\n",
       "      <th>price</th>\n",
       "      <th>median_price</th>\n",
       "      <th>condition</th>\n",
       "      <th>recommendation</th>\n",
       "    </tr>\n",
       "  </thead>\n",
       "  <tbody>\n",
       "    <tr>\n",
       "      <th>0</th>\n",
       "      <td>221900.00</td>\n",
       "      <td>279500.00</td>\n",
       "      <td>3</td>\n",
       "      <td>buy</td>\n",
       "    </tr>\n",
       "    <tr>\n",
       "      <th>1</th>\n",
       "      <td>538000.00</td>\n",
       "      <td>425000.00</td>\n",
       "      <td>3</td>\n",
       "      <td>dont_buy</td>\n",
       "    </tr>\n",
       "    <tr>\n",
       "      <th>2</th>\n",
       "      <td>180000.00</td>\n",
       "      <td>442500.00</td>\n",
       "      <td>3</td>\n",
       "      <td>buy</td>\n",
       "    </tr>\n",
       "    <tr>\n",
       "      <th>3</th>\n",
       "      <td>604000.00</td>\n",
       "      <td>489950.00</td>\n",
       "      <td>5</td>\n",
       "      <td>dont_buy</td>\n",
       "    </tr>\n",
       "    <tr>\n",
       "      <th>4</th>\n",
       "      <td>510000.00</td>\n",
       "      <td>645000.00</td>\n",
       "      <td>3</td>\n",
       "      <td>buy</td>\n",
       "    </tr>\n",
       "  </tbody>\n",
       "</table>\n",
       "</div>"
      ],
      "text/plain": [
       "      price  median_price  condition recommendation\n",
       "0 221900.00     279500.00          3            buy\n",
       "1 538000.00     425000.00          3       dont_buy\n",
       "2 180000.00     442500.00          3            buy\n",
       "3 604000.00     489950.00          5       dont_buy\n",
       "4 510000.00     645000.00          3            buy"
      ]
     },
     "execution_count": 97,
     "metadata": {},
     "output_type": "execute_result"
    }
   ],
   "source": [
    "df_m[['price', 'median_price', 'condition', 'recommendation']].head()"
   ]
  },
  {
   "cell_type": "markdown",
   "id": "bafa3731",
   "metadata": {},
   "source": [
    "#### Sugestão de Preço de Venda"
   ]
  },
  {
   "cell_type": "markdown",
   "id": "9943b095",
   "metadata": {},
   "source": [
    "Uma vez comprado o imóvel, é sugerido um preço de venda aplicando uma margem de 30% sobre o valor da compra, considerando o histórico fictício da companhia."
   ]
  },
  {
   "cell_type": "code",
   "execution_count": 98,
   "id": "609e7644",
   "metadata": {
    "ExecuteTime": {
     "end_time": "2022-10-14T12:52:43.313848Z",
     "start_time": "2022-10-14T12:52:43.103801Z"
    }
   },
   "outputs": [],
   "source": [
    "df_m['selling_price_suggestion'] = df_m.apply(lambda row: row['price'] * 1.3 if row['recommendation'] == 'buy'\n",
    "                                             else 0, axis = 1)"
   ]
  },
  {
   "cell_type": "code",
   "execution_count": 99,
   "id": "f61f451c",
   "metadata": {
    "ExecuteTime": {
     "end_time": "2022-10-14T12:52:44.630142Z",
     "start_time": "2022-10-14T12:52:44.622140Z"
    }
   },
   "outputs": [
    {
     "data": {
      "text/html": [
       "<div>\n",
       "<style scoped>\n",
       "    .dataframe tbody tr th:only-of-type {\n",
       "        vertical-align: middle;\n",
       "    }\n",
       "\n",
       "    .dataframe tbody tr th {\n",
       "        vertical-align: top;\n",
       "    }\n",
       "\n",
       "    .dataframe thead th {\n",
       "        text-align: right;\n",
       "    }\n",
       "</style>\n",
       "<table border=\"1\" class=\"dataframe\">\n",
       "  <thead>\n",
       "    <tr style=\"text-align: right;\">\n",
       "      <th></th>\n",
       "      <th>price</th>\n",
       "      <th>median_price</th>\n",
       "      <th>condition</th>\n",
       "      <th>recommendation</th>\n",
       "      <th>selling_price_suggestion</th>\n",
       "    </tr>\n",
       "  </thead>\n",
       "  <tbody>\n",
       "    <tr>\n",
       "      <th>0</th>\n",
       "      <td>221900.00</td>\n",
       "      <td>279500.00</td>\n",
       "      <td>3</td>\n",
       "      <td>buy</td>\n",
       "      <td>288470.00</td>\n",
       "    </tr>\n",
       "    <tr>\n",
       "      <th>1</th>\n",
       "      <td>538000.00</td>\n",
       "      <td>425000.00</td>\n",
       "      <td>3</td>\n",
       "      <td>dont_buy</td>\n",
       "      <td>0.00</td>\n",
       "    </tr>\n",
       "    <tr>\n",
       "      <th>2</th>\n",
       "      <td>180000.00</td>\n",
       "      <td>442500.00</td>\n",
       "      <td>3</td>\n",
       "      <td>buy</td>\n",
       "      <td>234000.00</td>\n",
       "    </tr>\n",
       "    <tr>\n",
       "      <th>3</th>\n",
       "      <td>604000.00</td>\n",
       "      <td>489950.00</td>\n",
       "      <td>5</td>\n",
       "      <td>dont_buy</td>\n",
       "      <td>0.00</td>\n",
       "    </tr>\n",
       "    <tr>\n",
       "      <th>4</th>\n",
       "      <td>510000.00</td>\n",
       "      <td>645000.00</td>\n",
       "      <td>3</td>\n",
       "      <td>buy</td>\n",
       "      <td>663000.00</td>\n",
       "    </tr>\n",
       "  </tbody>\n",
       "</table>\n",
       "</div>"
      ],
      "text/plain": [
       "      price  median_price  condition recommendation  selling_price_suggestion\n",
       "0 221900.00     279500.00          3            buy                 288470.00\n",
       "1 538000.00     425000.00          3       dont_buy                      0.00\n",
       "2 180000.00     442500.00          3            buy                 234000.00\n",
       "3 604000.00     489950.00          5       dont_buy                      0.00\n",
       "4 510000.00     645000.00          3            buy                 663000.00"
      ]
     },
     "execution_count": 99,
     "metadata": {},
     "output_type": "execute_result"
    }
   ],
   "source": [
    "df_m[['price', 'median_price', 'condition', 'recommendation', 'selling_price_suggestion']].head()"
   ]
  },
  {
   "cell_type": "markdown",
   "id": "c64ad530",
   "metadata": {
    "ExecuteTime": {
     "end_time": "2022-10-12T16:58:03.834958Z",
     "start_time": "2022-10-12T16:58:03.826955Z"
    }
   },
   "source": [
    "#### Lucro Estimado"
   ]
  },
  {
   "cell_type": "markdown",
   "id": "e197ef75",
   "metadata": {},
   "source": [
    "Com a venda do imóvel pelo preço sugerido, calculamos o lucro estimado com cada operação"
   ]
  },
  {
   "cell_type": "code",
   "execution_count": 100,
   "id": "884f0733",
   "metadata": {
    "ExecuteTime": {
     "end_time": "2022-10-14T12:52:48.266955Z",
     "start_time": "2022-10-14T12:52:48.025901Z"
    }
   },
   "outputs": [],
   "source": [
    "df_m['expected_profit'] = df_m.apply(lambda row: (row['selling_price_suggestion'] - row['price']) if row['recommendation'] == 'buy'\n",
    "                                    else 0, axis = 1)"
   ]
  },
  {
   "cell_type": "code",
   "execution_count": 101,
   "id": "e4d70cb0",
   "metadata": {
    "ExecuteTime": {
     "end_time": "2022-10-14T12:52:52.703947Z",
     "start_time": "2022-10-14T12:52:52.695945Z"
    }
   },
   "outputs": [
    {
     "data": {
      "text/html": [
       "<div>\n",
       "<style scoped>\n",
       "    .dataframe tbody tr th:only-of-type {\n",
       "        vertical-align: middle;\n",
       "    }\n",
       "\n",
       "    .dataframe tbody tr th {\n",
       "        vertical-align: top;\n",
       "    }\n",
       "\n",
       "    .dataframe thead th {\n",
       "        text-align: right;\n",
       "    }\n",
       "</style>\n",
       "<table border=\"1\" class=\"dataframe\">\n",
       "  <thead>\n",
       "    <tr style=\"text-align: right;\">\n",
       "      <th></th>\n",
       "      <th>price</th>\n",
       "      <th>median_price</th>\n",
       "      <th>condition</th>\n",
       "      <th>recommendation</th>\n",
       "      <th>selling_price_suggestion</th>\n",
       "      <th>expected_profit</th>\n",
       "    </tr>\n",
       "  </thead>\n",
       "  <tbody>\n",
       "    <tr>\n",
       "      <th>0</th>\n",
       "      <td>221900.00</td>\n",
       "      <td>279500.00</td>\n",
       "      <td>3</td>\n",
       "      <td>buy</td>\n",
       "      <td>288470.00</td>\n",
       "      <td>66570.00</td>\n",
       "    </tr>\n",
       "    <tr>\n",
       "      <th>1</th>\n",
       "      <td>538000.00</td>\n",
       "      <td>425000.00</td>\n",
       "      <td>3</td>\n",
       "      <td>dont_buy</td>\n",
       "      <td>0.00</td>\n",
       "      <td>0.00</td>\n",
       "    </tr>\n",
       "    <tr>\n",
       "      <th>2</th>\n",
       "      <td>180000.00</td>\n",
       "      <td>442500.00</td>\n",
       "      <td>3</td>\n",
       "      <td>buy</td>\n",
       "      <td>234000.00</td>\n",
       "      <td>54000.00</td>\n",
       "    </tr>\n",
       "    <tr>\n",
       "      <th>3</th>\n",
       "      <td>604000.00</td>\n",
       "      <td>489950.00</td>\n",
       "      <td>5</td>\n",
       "      <td>dont_buy</td>\n",
       "      <td>0.00</td>\n",
       "      <td>0.00</td>\n",
       "    </tr>\n",
       "    <tr>\n",
       "      <th>4</th>\n",
       "      <td>510000.00</td>\n",
       "      <td>645000.00</td>\n",
       "      <td>3</td>\n",
       "      <td>buy</td>\n",
       "      <td>663000.00</td>\n",
       "      <td>153000.00</td>\n",
       "    </tr>\n",
       "  </tbody>\n",
       "</table>\n",
       "</div>"
      ],
      "text/plain": [
       "      price  median_price  condition recommendation  selling_price_suggestion  \\\n",
       "0 221900.00     279500.00          3            buy                 288470.00   \n",
       "1 538000.00     425000.00          3       dont_buy                      0.00   \n",
       "2 180000.00     442500.00          3            buy                 234000.00   \n",
       "3 604000.00     489950.00          5       dont_buy                      0.00   \n",
       "4 510000.00     645000.00          3            buy                 663000.00   \n",
       "\n",
       "   expected_profit  \n",
       "0         66570.00  \n",
       "1             0.00  \n",
       "2         54000.00  \n",
       "3             0.00  \n",
       "4        153000.00  "
      ]
     },
     "execution_count": 101,
     "metadata": {},
     "output_type": "execute_result"
    }
   ],
   "source": [
    "df_m[['price', 'median_price', 'condition', 'recommendation', 'selling_price_suggestion', 'expected_profit']].head()"
   ]
  },
  {
   "cell_type": "markdown",
   "id": "1b380765",
   "metadata": {},
   "source": [
    "#### Total de Custo, Receita e Lucro"
   ]
  },
  {
   "cell_type": "code",
   "execution_count": 102,
   "id": "95bf4daf",
   "metadata": {
    "ExecuteTime": {
     "end_time": "2022-10-14T12:52:59.680509Z",
     "start_time": "2022-10-14T12:52:59.674505Z"
    }
   },
   "outputs": [
    {
     "name": "stdout",
     "output_type": "stream",
     "text": [
      "O custo total para aquisição dos imóveis é de: $ 4140161773\n"
     ]
    }
   ],
   "source": [
    "total_expense = round(df_m[df_m['recommendation'] == 'buy']['price'].sum())\n",
    "print(f'O custo total para aquisição dos imóveis é de: $ {total_expense}')"
   ]
  },
  {
   "cell_type": "code",
   "execution_count": 103,
   "id": "5c8d85f0",
   "metadata": {
    "ExecuteTime": {
     "end_time": "2022-10-14T12:53:01.550925Z",
     "start_time": "2022-10-14T12:53:01.545924Z"
    }
   },
   "outputs": [
    {
     "name": "stdout",
     "output_type": "stream",
     "text": [
      "A receita total com a venda dos imóveis será de: $ 5382210305\n"
     ]
    }
   ],
   "source": [
    "total_revenue = round(df_m[df_m['recommendation'] == 'buy']['selling_price_suggestion'].sum())\n",
    "print(f'A receita total com a venda dos imóveis será de: $ {total_revenue}')"
   ]
  },
  {
   "cell_type": "code",
   "execution_count": 104,
   "id": "be9a1873",
   "metadata": {
    "ExecuteTime": {
     "end_time": "2022-10-14T12:53:02.846215Z",
     "start_time": "2022-10-14T12:53:02.840221Z"
    }
   },
   "outputs": [
    {
     "name": "stdout",
     "output_type": "stream",
     "text": [
      "O lucro total com a venda dos imóveis será de $ 1242048532\n"
     ]
    }
   ],
   "source": [
    "total_profit = round(df_m[df_m['recommendation'] == 'buy']['expected_profit'].sum())\n",
    "print(f'O lucro total com a venda dos imóveis será de $ {total_profit}')"
   ]
  },
  {
   "cell_type": "markdown",
   "id": "96e64763",
   "metadata": {},
   "source": [
    "#### Estações do Ano"
   ]
  },
  {
   "cell_type": "markdown",
   "id": "bb182b8d",
   "metadata": {},
   "source": [
    "A ideia aqui é verificar se as estações do ano influenciam o preço dos imóveis, comparando cada imóvel com o preço mediano da região de acordo com a estação em que ele foi anunciado."
   ]
  },
  {
   "cell_type": "code",
   "execution_count": 106,
   "id": "d5d4f0b3",
   "metadata": {
    "ExecuteTime": {
     "end_time": "2022-10-14T12:53:46.465062Z",
     "start_time": "2022-10-14T12:53:46.457060Z"
    }
   },
   "outputs": [],
   "source": [
    "def seasons(date):\n",
    "    \n",
    "    year = str(date.year)\n",
    "    \n",
    "    seasons = {'spring': pd.date_range(start='21/03/'+year, end='20/06/'+year),\n",
    "               'summer': pd.date_range(start='21/06/'+year, end='22/09/'+year),\n",
    "               'autumn': pd.date_range(start='23/09/'+year, end='20/12/'+year)}\n",
    "    \n",
    "    if date in seasons['spring']:\n",
    "        return 'spring'\n",
    "    \n",
    "    if date in seasons['summer']:\n",
    "        return 'summer'\n",
    "    \n",
    "    if date in seasons['autumn']:\n",
    "        return 'autumn'\n",
    "    \n",
    "    else:\n",
    "        return 'winter'"
   ]
  },
  {
   "cell_type": "code",
   "execution_count": 107,
   "id": "4ffc8af7",
   "metadata": {
    "ExecuteTime": {
     "end_time": "2022-10-14T12:53:53.920886Z",
     "start_time": "2022-10-14T12:53:47.723344Z"
    }
   },
   "outputs": [],
   "source": [
    "df_m['season'] = df_m['date'].map(seasons)"
   ]
  },
  {
   "cell_type": "code",
   "execution_count": 108,
   "id": "b6fa4401",
   "metadata": {
    "ExecuteTime": {
     "end_time": "2022-10-14T12:53:53.929888Z",
     "start_time": "2022-10-14T12:53:53.921887Z"
    }
   },
   "outputs": [
    {
     "data": {
      "text/html": [
       "<div>\n",
       "<style scoped>\n",
       "    .dataframe tbody tr th:only-of-type {\n",
       "        vertical-align: middle;\n",
       "    }\n",
       "\n",
       "    .dataframe tbody tr th {\n",
       "        vertical-align: top;\n",
       "    }\n",
       "\n",
       "    .dataframe thead th {\n",
       "        text-align: right;\n",
       "    }\n",
       "</style>\n",
       "<table border=\"1\" class=\"dataframe\">\n",
       "  <thead>\n",
       "    <tr style=\"text-align: right;\">\n",
       "      <th></th>\n",
       "      <th>date</th>\n",
       "      <th>season</th>\n",
       "    </tr>\n",
       "  </thead>\n",
       "  <tbody>\n",
       "    <tr>\n",
       "      <th>0</th>\n",
       "      <td>2014-10-13</td>\n",
       "      <td>autumn</td>\n",
       "    </tr>\n",
       "    <tr>\n",
       "      <th>1</th>\n",
       "      <td>2014-12-09</td>\n",
       "      <td>autumn</td>\n",
       "    </tr>\n",
       "    <tr>\n",
       "      <th>2</th>\n",
       "      <td>2015-02-25</td>\n",
       "      <td>winter</td>\n",
       "    </tr>\n",
       "    <tr>\n",
       "      <th>3</th>\n",
       "      <td>2014-12-09</td>\n",
       "      <td>autumn</td>\n",
       "    </tr>\n",
       "    <tr>\n",
       "      <th>4</th>\n",
       "      <td>2015-02-18</td>\n",
       "      <td>winter</td>\n",
       "    </tr>\n",
       "  </tbody>\n",
       "</table>\n",
       "</div>"
      ],
      "text/plain": [
       "        date  season\n",
       "0 2014-10-13  autumn\n",
       "1 2014-12-09  autumn\n",
       "2 2015-02-25  winter\n",
       "3 2014-12-09  autumn\n",
       "4 2015-02-18  winter"
      ]
     },
     "execution_count": 108,
     "metadata": {},
     "output_type": "execute_result"
    }
   ],
   "source": [
    "df_m[['date', 'season']].head()"
   ]
  },
  {
   "cell_type": "code",
   "execution_count": 109,
   "id": "cae74fe3",
   "metadata": {
    "ExecuteTime": {
     "end_time": "2022-10-14T12:53:53.960895Z",
     "start_time": "2022-10-14T12:53:53.930889Z"
    }
   },
   "outputs": [
    {
     "data": {
      "text/html": [
       "<div>\n",
       "<style scoped>\n",
       "    .dataframe tbody tr th:only-of-type {\n",
       "        vertical-align: middle;\n",
       "    }\n",
       "\n",
       "    .dataframe tbody tr th {\n",
       "        vertical-align: top;\n",
       "    }\n",
       "\n",
       "    .dataframe thead th {\n",
       "        text-align: right;\n",
       "    }\n",
       "</style>\n",
       "<table border=\"1\" class=\"dataframe\">\n",
       "  <thead>\n",
       "    <tr style=\"text-align: right;\">\n",
       "      <th></th>\n",
       "      <th>season</th>\n",
       "      <th>mean</th>\n",
       "      <th>qty</th>\n",
       "    </tr>\n",
       "  </thead>\n",
       "  <tbody>\n",
       "    <tr>\n",
       "      <th>0</th>\n",
       "      <td>autumn</td>\n",
       "      <td>531475.00</td>\n",
       "      <td>4865</td>\n",
       "    </tr>\n",
       "    <tr>\n",
       "      <th>1</th>\n",
       "      <td>spring</td>\n",
       "      <td>558680.00</td>\n",
       "      <td>6782</td>\n",
       "    </tr>\n",
       "    <tr>\n",
       "      <th>2</th>\n",
       "      <td>summer</td>\n",
       "      <td>542643.00</td>\n",
       "      <td>6058</td>\n",
       "    </tr>\n",
       "    <tr>\n",
       "      <th>3</th>\n",
       "      <td>winter</td>\n",
       "      <td>522712.00</td>\n",
       "      <td>3716</td>\n",
       "    </tr>\n",
       "  </tbody>\n",
       "</table>\n",
       "</div>"
      ],
      "text/plain": [
       "   season      mean   qty\n",
       "0  autumn 531475.00  4865\n",
       "1  spring 558680.00  6782\n",
       "2  summer 542643.00  6058\n",
       "3  winter 522712.00  3716"
      ]
     },
     "execution_count": 109,
     "metadata": {},
     "output_type": "execute_result"
    }
   ],
   "source": [
    "season_price = df_m[['season', 'price']].groupby('season')\n",
    "season_price = season_price.agg(\n",
    "                mean = pd.NamedAgg('price', 'mean'),\n",
    "                qty = pd.NamedAgg('price', 'count')\n",
    "                ).round().reset_index()\n",
    "season_price"
   ]
  },
  {
   "cell_type": "code",
   "execution_count": 110,
   "id": "e636961a",
   "metadata": {
    "ExecuteTime": {
     "end_time": "2022-10-14T12:53:59.415845Z",
     "start_time": "2022-10-14T12:53:59.108903Z"
    }
   },
   "outputs": [
    {
     "data": {
      "image/png": "[encoded data removed]",
      "text/plain": [
       "<Figure size 1080x576 with 2 Axes>"
      ]
     },
     "metadata": {},
     "output_type": "display_data"
    }
   ],
   "source": [
    "fig, ax1 = plt.subplots()\n",
    "ax2 = ax1.twinx()\n",
    "bar1 = sns.barplot(data = season_price, x = 'season', y = 'qty', ax = ax1)\n",
    "bar1.set(title = 'Quantidade de Imóveis e Preço Médio por Estação do Ano', xlabel = 'Estação do Ano', ylabel = 'Quantidade')\n",
    "bar1.grid(False)\n",
    "line1 = sns.pointplot(data = season_price, x = 'season', y = 'mean', color='#333', ax = ax2)\n",
    "line1.set(ylabel = 'Média de Preço')\n",
    "line1.grid(False);"
   ]
  },
  {
   "cell_type": "markdown",
   "id": "0ff2e3e6",
   "metadata": {},
   "source": [
    "Existe uma certa correlação entre a quantidade de imóveis e o preço médio de acordo com a estação do ano: \n",
    "- No inverno tivemos menos imóveis anunciados, com um preço médio menor\n",
    "- Na primavera tivemos mais imóveis anuncidos, com um preço médio maior"
   ]
  },
  {
   "cell_type": "code",
   "execution_count": 111,
   "id": "c37b8dbf",
   "metadata": {
    "ExecuteTime": {
     "end_time": "2022-10-14T12:54:54.582122Z",
     "start_time": "2022-10-14T12:54:54.555116Z"
    }
   },
   "outputs": [
    {
     "data": {
      "text/html": [
       "<div>\n",
       "<style scoped>\n",
       "    .dataframe tbody tr th:only-of-type {\n",
       "        vertical-align: middle;\n",
       "    }\n",
       "\n",
       "    .dataframe tbody tr th {\n",
       "        vertical-align: top;\n",
       "    }\n",
       "\n",
       "    .dataframe thead th {\n",
       "        text-align: right;\n",
       "    }\n",
       "</style>\n",
       "<table border=\"1\" class=\"dataframe\">\n",
       "  <thead>\n",
       "    <tr style=\"text-align: right;\">\n",
       "      <th></th>\n",
       "      <th>zipcode</th>\n",
       "      <th>season</th>\n",
       "      <th>price</th>\n",
       "    </tr>\n",
       "  </thead>\n",
       "  <tbody>\n",
       "    <tr>\n",
       "      <th>0</th>\n",
       "      <td>98001</td>\n",
       "      <td>autumn</td>\n",
       "      <td>250000.00</td>\n",
       "    </tr>\n",
       "    <tr>\n",
       "      <th>1</th>\n",
       "      <td>98001</td>\n",
       "      <td>spring</td>\n",
       "      <td>262000.00</td>\n",
       "    </tr>\n",
       "    <tr>\n",
       "      <th>2</th>\n",
       "      <td>98001</td>\n",
       "      <td>summer</td>\n",
       "      <td>263000.00</td>\n",
       "    </tr>\n",
       "    <tr>\n",
       "      <th>3</th>\n",
       "      <td>98001</td>\n",
       "      <td>winter</td>\n",
       "      <td>269950.00</td>\n",
       "    </tr>\n",
       "    <tr>\n",
       "      <th>4</th>\n",
       "      <td>98002</td>\n",
       "      <td>autumn</td>\n",
       "      <td>236500.00</td>\n",
       "    </tr>\n",
       "    <tr>\n",
       "      <th>5</th>\n",
       "      <td>98002</td>\n",
       "      <td>spring</td>\n",
       "      <td>233301.50</td>\n",
       "    </tr>\n",
       "    <tr>\n",
       "      <th>6</th>\n",
       "      <td>98002</td>\n",
       "      <td>summer</td>\n",
       "      <td>231750.00</td>\n",
       "    </tr>\n",
       "    <tr>\n",
       "      <th>7</th>\n",
       "      <td>98002</td>\n",
       "      <td>winter</td>\n",
       "      <td>235000.00</td>\n",
       "    </tr>\n",
       "  </tbody>\n",
       "</table>\n",
       "</div>"
      ],
      "text/plain": [
       "   zipcode  season     price\n",
       "0    98001  autumn 250000.00\n",
       "1    98001  spring 262000.00\n",
       "2    98001  summer 263000.00\n",
       "3    98001  winter 269950.00\n",
       "4    98002  autumn 236500.00\n",
       "5    98002  spring 233301.50\n",
       "6    98002  summer 231750.00\n",
       "7    98002  winter 235000.00"
      ]
     },
     "execution_count": 111,
     "metadata": {},
     "output_type": "execute_result"
    }
   ],
   "source": [
    "price_zip_season = df_m[['price', 'zipcode', 'season']].groupby(['zipcode', 'season']).median().reset_index()\n",
    "price_zip_season.head(8)"
   ]
  },
  {
   "cell_type": "code",
   "execution_count": 112,
   "id": "3848c31e",
   "metadata": {
    "ExecuteTime": {
     "end_time": "2022-10-14T12:54:58.484995Z",
     "start_time": "2022-10-14T12:54:58.474993Z"
    }
   },
   "outputs": [
    {
     "data": {
      "text/html": [
       "<div>\n",
       "<style scoped>\n",
       "    .dataframe tbody tr th:only-of-type {\n",
       "        vertical-align: middle;\n",
       "    }\n",
       "\n",
       "    .dataframe tbody tr th {\n",
       "        vertical-align: top;\n",
       "    }\n",
       "\n",
       "    .dataframe thead th {\n",
       "        text-align: right;\n",
       "    }\n",
       "</style>\n",
       "<table border=\"1\" class=\"dataframe\">\n",
       "  <thead>\n",
       "    <tr style=\"text-align: right;\">\n",
       "      <th>season</th>\n",
       "      <th>zipcode</th>\n",
       "      <th>med_autumn</th>\n",
       "      <th>med_spring</th>\n",
       "      <th>med_summer</th>\n",
       "      <th>med_winter</th>\n",
       "    </tr>\n",
       "  </thead>\n",
       "  <tbody>\n",
       "    <tr>\n",
       "      <th>0</th>\n",
       "      <td>98001</td>\n",
       "      <td>250000.00</td>\n",
       "      <td>262000.00</td>\n",
       "      <td>263000.00</td>\n",
       "      <td>269950.00</td>\n",
       "    </tr>\n",
       "    <tr>\n",
       "      <th>1</th>\n",
       "      <td>98002</td>\n",
       "      <td>236500.00</td>\n",
       "      <td>233301.50</td>\n",
       "      <td>231750.00</td>\n",
       "      <td>235000.00</td>\n",
       "    </tr>\n",
       "    <tr>\n",
       "      <th>2</th>\n",
       "      <td>98003</td>\n",
       "      <td>261000.00</td>\n",
       "      <td>280000.00</td>\n",
       "      <td>261000.00</td>\n",
       "      <td>265000.00</td>\n",
       "    </tr>\n",
       "    <tr>\n",
       "      <th>3</th>\n",
       "      <td>98004</td>\n",
       "      <td>1116500.00</td>\n",
       "      <td>1180000.00</td>\n",
       "      <td>1014250.00</td>\n",
       "      <td>1374000.00</td>\n",
       "    </tr>\n",
       "    <tr>\n",
       "      <th>4</th>\n",
       "      <td>98005</td>\n",
       "      <td>806500.00</td>\n",
       "      <td>795000.00</td>\n",
       "      <td>740000.00</td>\n",
       "      <td>762450.00</td>\n",
       "    </tr>\n",
       "  </tbody>\n",
       "</table>\n",
       "</div>"
      ],
      "text/plain": [
       "season  zipcode  med_autumn  med_spring  med_summer  med_winter\n",
       "0         98001   250000.00   262000.00   263000.00   269950.00\n",
       "1         98002   236500.00   233301.50   231750.00   235000.00\n",
       "2         98003   261000.00   280000.00   261000.00   265000.00\n",
       "3         98004  1116500.00  1180000.00  1014250.00  1374000.00\n",
       "4         98005   806500.00   795000.00   740000.00   762450.00"
      ]
     },
     "execution_count": 112,
     "metadata": {},
     "output_type": "execute_result"
    }
   ],
   "source": [
    "aux = price_zip_season.pivot(index='zipcode', columns='season', values='price').reset_index()\n",
    "aux = aux.rename(columns={'autumn':'med_autumn', 'spring':'med_spring', 'summer':'med_summer', 'winter':'med_winter'})\n",
    "aux.head()"
   ]
  },
  {
   "cell_type": "code",
   "execution_count": 113,
   "id": "e33206a9",
   "metadata": {
    "ExecuteTime": {
     "end_time": "2022-10-14T12:55:00.016339Z",
     "start_time": "2022-10-14T12:54:59.998333Z"
    }
   },
   "outputs": [],
   "source": [
    "df_m = pd.merge(df_m, aux, on='zipcode', how='left')"
   ]
  },
  {
   "cell_type": "code",
   "execution_count": 114,
   "id": "dabedbe5",
   "metadata": {
    "ExecuteTime": {
     "end_time": "2022-10-14T12:55:00.895534Z",
     "start_time": "2022-10-14T12:55:00.884532Z"
    }
   },
   "outputs": [
    {
     "data": {
      "text/html": [
       "<div>\n",
       "<style scoped>\n",
       "    .dataframe tbody tr th:only-of-type {\n",
       "        vertical-align: middle;\n",
       "    }\n",
       "\n",
       "    .dataframe tbody tr th {\n",
       "        vertical-align: top;\n",
       "    }\n",
       "\n",
       "    .dataframe thead th {\n",
       "        text-align: right;\n",
       "    }\n",
       "</style>\n",
       "<table border=\"1\" class=\"dataframe\">\n",
       "  <thead>\n",
       "    <tr style=\"text-align: right;\">\n",
       "      <th></th>\n",
       "      <th>price</th>\n",
       "      <th>zipcode</th>\n",
       "      <th>median_price</th>\n",
       "      <th>med_autumn</th>\n",
       "      <th>med_spring</th>\n",
       "      <th>med_summer</th>\n",
       "      <th>med_winter</th>\n",
       "    </tr>\n",
       "  </thead>\n",
       "  <tbody>\n",
       "    <tr>\n",
       "      <th>0</th>\n",
       "      <td>221900.00</td>\n",
       "      <td>98178</td>\n",
       "      <td>279500.00</td>\n",
       "      <td>284000.00</td>\n",
       "      <td>285000.00</td>\n",
       "      <td>277554.00</td>\n",
       "      <td>263295.00</td>\n",
       "    </tr>\n",
       "    <tr>\n",
       "      <th>1</th>\n",
       "      <td>538000.00</td>\n",
       "      <td>98125</td>\n",
       "      <td>425000.00</td>\n",
       "      <td>435500.00</td>\n",
       "      <td>429975.00</td>\n",
       "      <td>421750.00</td>\n",
       "      <td>425000.00</td>\n",
       "    </tr>\n",
       "    <tr>\n",
       "      <th>2</th>\n",
       "      <td>180000.00</td>\n",
       "      <td>98028</td>\n",
       "      <td>442500.00</td>\n",
       "      <td>442000.00</td>\n",
       "      <td>449950.00</td>\n",
       "      <td>425000.00</td>\n",
       "      <td>447500.00</td>\n",
       "    </tr>\n",
       "    <tr>\n",
       "      <th>3</th>\n",
       "      <td>604000.00</td>\n",
       "      <td>98136</td>\n",
       "      <td>489950.00</td>\n",
       "      <td>469300.00</td>\n",
       "      <td>515000.00</td>\n",
       "      <td>454900.00</td>\n",
       "      <td>525000.00</td>\n",
       "    </tr>\n",
       "    <tr>\n",
       "      <th>4</th>\n",
       "      <td>510000.00</td>\n",
       "      <td>98074</td>\n",
       "      <td>645000.00</td>\n",
       "      <td>630000.00</td>\n",
       "      <td>657500.00</td>\n",
       "      <td>637000.00</td>\n",
       "      <td>627800.00</td>\n",
       "    </tr>\n",
       "  </tbody>\n",
       "</table>\n",
       "</div>"
      ],
      "text/plain": [
       "      price  zipcode  median_price  med_autumn  med_spring  med_summer  \\\n",
       "0 221900.00    98178     279500.00   284000.00   285000.00   277554.00   \n",
       "1 538000.00    98125     425000.00   435500.00   429975.00   421750.00   \n",
       "2 180000.00    98028     442500.00   442000.00   449950.00   425000.00   \n",
       "3 604000.00    98136     489950.00   469300.00   515000.00   454900.00   \n",
       "4 510000.00    98074     645000.00   630000.00   657500.00   637000.00   \n",
       "\n",
       "   med_winter  \n",
       "0   263295.00  \n",
       "1   425000.00  \n",
       "2   447500.00  \n",
       "3   525000.00  \n",
       "4   627800.00  "
      ]
     },
     "execution_count": 114,
     "metadata": {},
     "output_type": "execute_result"
    }
   ],
   "source": [
    "df_m[['price', 'zipcode', 'median_price', 'med_autumn', 'med_spring', 'med_summer', 'med_winter']].head()"
   ]
  },
  {
   "cell_type": "code",
   "execution_count": 115,
   "id": "0b965c8e",
   "metadata": {
    "ExecuteTime": {
     "end_time": "2022-10-14T12:55:04.564354Z",
     "start_time": "2022-10-14T12:55:04.560353Z"
    }
   },
   "outputs": [],
   "source": [
    "df_m['best_season_to_buy'] = 'NA'"
   ]
  },
  {
   "cell_type": "code",
   "execution_count": 116,
   "id": "1bd9d733",
   "metadata": {
    "ExecuteTime": {
     "end_time": "2022-10-14T12:55:14.714321Z",
     "start_time": "2022-10-14T12:55:05.606587Z"
    }
   },
   "outputs": [],
   "source": [
    "for i in range(len(df_m)):    \n",
    "    \n",
    "    cols = ['med_autumn', 'med_spring', 'med_summer', 'med_winter']\n",
    "    \n",
    "    if df_m.loc[i, 'recommendation'] == 'buy':\n",
    "    \n",
    "        min_price = df_m.loc[i, cols].min()\n",
    "        \n",
    "        if min_price == df_m.loc[i, 'med_autumn']:\n",
    "            df_m.loc[i, 'best_season_to_buy'] = 'autumn'\n",
    "        \n",
    "        if min_price == df_m.loc[i, 'med_spring']:\n",
    "            df_m.loc[i, 'best_season_to_buy'] = 'spring'\n",
    "            \n",
    "        if min_price == df_m.loc[i, 'med_summer']:\n",
    "            df_m.loc[i, 'best_season_to_buy'] = 'summer'\n",
    "            \n",
    "        if min_price == df_m.loc[i, 'med_winter']:\n",
    "            df_m.loc[i, 'best_season_to_buy'] = 'winter'"
   ]
  },
  {
   "cell_type": "code",
   "execution_count": 117,
   "id": "f01465b9",
   "metadata": {
    "ExecuteTime": {
     "end_time": "2022-10-14T12:55:15.303454Z",
     "start_time": "2022-10-14T12:55:15.293451Z"
    }
   },
   "outputs": [
    {
     "data": {
      "text/html": [
       "<div>\n",
       "<style scoped>\n",
       "    .dataframe tbody tr th:only-of-type {\n",
       "        vertical-align: middle;\n",
       "    }\n",
       "\n",
       "    .dataframe tbody tr th {\n",
       "        vertical-align: top;\n",
       "    }\n",
       "\n",
       "    .dataframe thead th {\n",
       "        text-align: right;\n",
       "    }\n",
       "</style>\n",
       "<table border=\"1\" class=\"dataframe\">\n",
       "  <thead>\n",
       "    <tr style=\"text-align: right;\">\n",
       "      <th></th>\n",
       "      <th>price</th>\n",
       "      <th>median_price</th>\n",
       "      <th>med_autumn</th>\n",
       "      <th>med_spring</th>\n",
       "      <th>med_summer</th>\n",
       "      <th>med_winter</th>\n",
       "      <th>recommendation</th>\n",
       "      <th>best_season_to_buy</th>\n",
       "    </tr>\n",
       "  </thead>\n",
       "  <tbody>\n",
       "    <tr>\n",
       "      <th>0</th>\n",
       "      <td>221900.00</td>\n",
       "      <td>279500.00</td>\n",
       "      <td>284000.00</td>\n",
       "      <td>285000.00</td>\n",
       "      <td>277554.00</td>\n",
       "      <td>263295.00</td>\n",
       "      <td>buy</td>\n",
       "      <td>winter</td>\n",
       "    </tr>\n",
       "    <tr>\n",
       "      <th>1</th>\n",
       "      <td>538000.00</td>\n",
       "      <td>425000.00</td>\n",
       "      <td>435500.00</td>\n",
       "      <td>429975.00</td>\n",
       "      <td>421750.00</td>\n",
       "      <td>425000.00</td>\n",
       "      <td>dont_buy</td>\n",
       "      <td>NA</td>\n",
       "    </tr>\n",
       "    <tr>\n",
       "      <th>2</th>\n",
       "      <td>180000.00</td>\n",
       "      <td>442500.00</td>\n",
       "      <td>442000.00</td>\n",
       "      <td>449950.00</td>\n",
       "      <td>425000.00</td>\n",
       "      <td>447500.00</td>\n",
       "      <td>buy</td>\n",
       "      <td>summer</td>\n",
       "    </tr>\n",
       "    <tr>\n",
       "      <th>3</th>\n",
       "      <td>604000.00</td>\n",
       "      <td>489950.00</td>\n",
       "      <td>469300.00</td>\n",
       "      <td>515000.00</td>\n",
       "      <td>454900.00</td>\n",
       "      <td>525000.00</td>\n",
       "      <td>dont_buy</td>\n",
       "      <td>NA</td>\n",
       "    </tr>\n",
       "    <tr>\n",
       "      <th>4</th>\n",
       "      <td>510000.00</td>\n",
       "      <td>645000.00</td>\n",
       "      <td>630000.00</td>\n",
       "      <td>657500.00</td>\n",
       "      <td>637000.00</td>\n",
       "      <td>627800.00</td>\n",
       "      <td>buy</td>\n",
       "      <td>winter</td>\n",
       "    </tr>\n",
       "  </tbody>\n",
       "</table>\n",
       "</div>"
      ],
      "text/plain": [
       "      price  median_price  med_autumn  med_spring  med_summer  med_winter  \\\n",
       "0 221900.00     279500.00   284000.00   285000.00   277554.00   263295.00   \n",
       "1 538000.00     425000.00   435500.00   429975.00   421750.00   425000.00   \n",
       "2 180000.00     442500.00   442000.00   449950.00   425000.00   447500.00   \n",
       "3 604000.00     489950.00   469300.00   515000.00   454900.00   525000.00   \n",
       "4 510000.00     645000.00   630000.00   657500.00   637000.00   627800.00   \n",
       "\n",
       "  recommendation best_season_to_buy  \n",
       "0            buy             winter  \n",
       "1       dont_buy                 NA  \n",
       "2            buy             summer  \n",
       "3       dont_buy                 NA  \n",
       "4            buy             winter  "
      ]
     },
     "execution_count": 117,
     "metadata": {},
     "output_type": "execute_result"
    }
   ],
   "source": [
    "df_m[['price', 'median_price', 'med_autumn', 'med_spring', 'med_summer', 'med_winter', 'recommendation', 'best_season_to_buy']].head()"
   ]
  },
  {
   "cell_type": "code",
   "execution_count": 118,
   "id": "1beb6362",
   "metadata": {
    "ExecuteTime": {
     "end_time": "2022-10-14T12:55:17.585965Z",
     "start_time": "2022-10-14T12:55:17.582963Z"
    }
   },
   "outputs": [],
   "source": [
    "df_m['best_season_to_sell'] = 'NA'"
   ]
  },
  {
   "cell_type": "code",
   "execution_count": 119,
   "id": "3da98ebd",
   "metadata": {
    "ExecuteTime": {
     "end_time": "2022-10-14T12:55:27.570196Z",
     "start_time": "2022-10-14T12:55:18.375140Z"
    }
   },
   "outputs": [],
   "source": [
    "for i in range(len(df_m)):    \n",
    "    \n",
    "    cols = ['med_autumn', 'med_spring', 'med_summer', 'med_winter']\n",
    "    \n",
    "    if df_m.loc[i, 'recommendation'] == 'buy':\n",
    "    \n",
    "        max_price = df_m.loc[i, cols].max()\n",
    "        \n",
    "        if max_price == df_m.loc[i, 'med_autumn']:\n",
    "            df_m.loc[i, 'best_season_to_sell'] = 'autumn'\n",
    "        \n",
    "        if max_price == df_m.loc[i, 'med_spring']:\n",
    "            df_m.loc[i, 'best_season_to_sell'] = 'spring'\n",
    "            \n",
    "        if max_price == df_m.loc[i, 'med_summer']:\n",
    "            df_m.loc[i, 'best_season_to_sell'] = 'summer'\n",
    "            \n",
    "        if max_price == df_m.loc[i, 'med_winter']:\n",
    "            df_m.loc[i, 'best_season_to_sell'] = 'winter'"
   ]
  },
  {
   "cell_type": "code",
   "execution_count": 120,
   "id": "34ec5989",
   "metadata": {
    "ExecuteTime": {
     "end_time": "2022-10-14T12:56:28.069128Z",
     "start_time": "2022-10-14T12:56:28.061127Z"
    }
   },
   "outputs": [
    {
     "data": {
      "text/html": [
       "<div>\n",
       "<style scoped>\n",
       "    .dataframe tbody tr th:only-of-type {\n",
       "        vertical-align: middle;\n",
       "    }\n",
       "\n",
       "    .dataframe tbody tr th {\n",
       "        vertical-align: top;\n",
       "    }\n",
       "\n",
       "    .dataframe thead th {\n",
       "        text-align: right;\n",
       "    }\n",
       "</style>\n",
       "<table border=\"1\" class=\"dataframe\">\n",
       "  <thead>\n",
       "    <tr style=\"text-align: right;\">\n",
       "      <th></th>\n",
       "      <th>price</th>\n",
       "      <th>median_price</th>\n",
       "      <th>med_autumn</th>\n",
       "      <th>med_spring</th>\n",
       "      <th>med_summer</th>\n",
       "      <th>med_winter</th>\n",
       "      <th>recommendation</th>\n",
       "      <th>best_season_to_buy</th>\n",
       "      <th>best_season_to_sell</th>\n",
       "    </tr>\n",
       "  </thead>\n",
       "  <tbody>\n",
       "    <tr>\n",
       "      <th>0</th>\n",
       "      <td>221900.00</td>\n",
       "      <td>279500.00</td>\n",
       "      <td>284000.00</td>\n",
       "      <td>285000.00</td>\n",
       "      <td>277554.00</td>\n",
       "      <td>263295.00</td>\n",
       "      <td>buy</td>\n",
       "      <td>winter</td>\n",
       "      <td>spring</td>\n",
       "    </tr>\n",
       "    <tr>\n",
       "      <th>1</th>\n",
       "      <td>538000.00</td>\n",
       "      <td>425000.00</td>\n",
       "      <td>435500.00</td>\n",
       "      <td>429975.00</td>\n",
       "      <td>421750.00</td>\n",
       "      <td>425000.00</td>\n",
       "      <td>dont_buy</td>\n",
       "      <td>NA</td>\n",
       "      <td>NA</td>\n",
       "    </tr>\n",
       "    <tr>\n",
       "      <th>2</th>\n",
       "      <td>180000.00</td>\n",
       "      <td>442500.00</td>\n",
       "      <td>442000.00</td>\n",
       "      <td>449950.00</td>\n",
       "      <td>425000.00</td>\n",
       "      <td>447500.00</td>\n",
       "      <td>buy</td>\n",
       "      <td>summer</td>\n",
       "      <td>spring</td>\n",
       "    </tr>\n",
       "    <tr>\n",
       "      <th>3</th>\n",
       "      <td>604000.00</td>\n",
       "      <td>489950.00</td>\n",
       "      <td>469300.00</td>\n",
       "      <td>515000.00</td>\n",
       "      <td>454900.00</td>\n",
       "      <td>525000.00</td>\n",
       "      <td>dont_buy</td>\n",
       "      <td>NA</td>\n",
       "      <td>NA</td>\n",
       "    </tr>\n",
       "    <tr>\n",
       "      <th>4</th>\n",
       "      <td>510000.00</td>\n",
       "      <td>645000.00</td>\n",
       "      <td>630000.00</td>\n",
       "      <td>657500.00</td>\n",
       "      <td>637000.00</td>\n",
       "      <td>627800.00</td>\n",
       "      <td>buy</td>\n",
       "      <td>winter</td>\n",
       "      <td>spring</td>\n",
       "    </tr>\n",
       "  </tbody>\n",
       "</table>\n",
       "</div>"
      ],
      "text/plain": [
       "      price  median_price  med_autumn  med_spring  med_summer  med_winter  \\\n",
       "0 221900.00     279500.00   284000.00   285000.00   277554.00   263295.00   \n",
       "1 538000.00     425000.00   435500.00   429975.00   421750.00   425000.00   \n",
       "2 180000.00     442500.00   442000.00   449950.00   425000.00   447500.00   \n",
       "3 604000.00     489950.00   469300.00   515000.00   454900.00   525000.00   \n",
       "4 510000.00     645000.00   630000.00   657500.00   637000.00   627800.00   \n",
       "\n",
       "  recommendation best_season_to_buy best_season_to_sell  \n",
       "0            buy             winter              spring  \n",
       "1       dont_buy                 NA                  NA  \n",
       "2            buy             summer              spring  \n",
       "3       dont_buy                 NA                  NA  \n",
       "4            buy             winter              spring  "
      ]
     },
     "execution_count": 120,
     "metadata": {},
     "output_type": "execute_result"
    }
   ],
   "source": [
    "df_m[['price', 'median_price', 'med_autumn', 'med_spring', 'med_summer', 'med_winter', 'recommendation', 'best_season_to_buy', 'best_season_to_sell']].head()"
   ]
  },
  {
   "cell_type": "markdown",
   "id": "9787b303",
   "metadata": {
    "ExecuteTime": {
     "end_time": "2022-10-12T18:17:21.783687Z",
     "start_time": "2022-10-12T18:17:21.774693Z"
    }
   },
   "source": [
    "Levando em conta o preço mediano da região de acordo com a estação do ano, temos na tabela a melhor estação para comprar e a melhor estação para vender, visando maximizar o lucro da operação"
   ]
  },
  {
   "cell_type": "markdown",
   "id": "7a21c3d3",
   "metadata": {},
   "source": [
    "### Hipóteses de Negócio"
   ]
  },
  {
   "cell_type": "markdown",
   "id": "126256b2",
   "metadata": {},
   "source": [
    "#### 1. Imóveis com vista para água são 50% mais caros"
   ]
  },
  {
   "cell_type": "markdown",
   "id": "537166ef",
   "metadata": {},
   "source": [
    "**Falso**: Imóveis com vista para a água são 212% mais caros.\n",
    "\n",
    "**Insight**: Apesar de serem mais caros, imóveis com vista para água tem forte potencial de valorização."
   ]
  },
  {
   "cell_type": "code",
   "execution_count": 121,
   "id": "6f3c8937",
   "metadata": {
    "ExecuteTime": {
     "end_time": "2022-10-14T12:57:05.344897Z",
     "start_time": "2022-10-14T12:57:05.339895Z"
    }
   },
   "outputs": [],
   "source": [
    "waterfront = df.loc[df['waterfront'] == 'yes', 'price'].mean()"
   ]
  },
  {
   "cell_type": "code",
   "execution_count": 122,
   "id": "e7dc348f",
   "metadata": {
    "ExecuteTime": {
     "end_time": "2022-10-14T12:57:06.058056Z",
     "start_time": "2022-10-14T12:57:06.054056Z"
    }
   },
   "outputs": [],
   "source": [
    "not_waterfront = df.loc[df['waterfront'] == 'no', 'price'].mean()"
   ]
  },
  {
   "cell_type": "code",
   "execution_count": 123,
   "id": "45f815a9",
   "metadata": {
    "ExecuteTime": {
     "end_time": "2022-10-14T12:57:06.713203Z",
     "start_time": "2022-10-14T12:57:06.709202Z"
    }
   },
   "outputs": [],
   "source": [
    "percentage = round(((waterfront - not_waterfront) / not_waterfront) * 100)"
   ]
  },
  {
   "cell_type": "code",
   "execution_count": 124,
   "id": "358590cb",
   "metadata": {
    "ExecuteTime": {
     "end_time": "2022-10-14T12:57:07.793445Z",
     "start_time": "2022-10-14T12:57:07.790444Z"
    }
   },
   "outputs": [
    {
     "name": "stdout",
     "output_type": "stream",
     "text": [
      "Imóveis com vista para a água são 212% mais caros.\n"
     ]
    }
   ],
   "source": [
    "print(f'Imóveis com vista para a água são {percentage}% mais caros.')"
   ]
  },
  {
   "cell_type": "markdown",
   "id": "3e121850",
   "metadata": {},
   "source": [
    "#### 2. Imóveis com porão são 15% mais caros"
   ]
  },
  {
   "cell_type": "markdown",
   "id": "d88664b9",
   "metadata": {},
   "source": [
    "**Falso**: Imóveis com porão são 28% mais caros.\n",
    "\n",
    "**Insight**: A depender da viabilidade e do custo, pode fazer sentido reformar e construir um porão em um imóvel, visando sua valorização."
   ]
  },
  {
   "cell_type": "code",
   "execution_count": 125,
   "id": "a815d7d0",
   "metadata": {
    "ExecuteTime": {
     "end_time": "2022-10-14T12:57:19.576792Z",
     "start_time": "2022-10-14T12:57:19.573792Z"
    }
   },
   "outputs": [],
   "source": [
    "basement_price = df.loc[df['sqft_basement'] != 0, 'price'].mean()"
   ]
  },
  {
   "cell_type": "code",
   "execution_count": 126,
   "id": "9d5a7337",
   "metadata": {
    "ExecuteTime": {
     "end_time": "2022-10-14T12:57:20.049898Z",
     "start_time": "2022-10-14T12:57:20.046898Z"
    }
   },
   "outputs": [],
   "source": [
    "no_basement_price = df.loc[df['sqft_basement'] == 0, 'price'].mean()"
   ]
  },
  {
   "cell_type": "code",
   "execution_count": 127,
   "id": "0ec41666",
   "metadata": {
    "ExecuteTime": {
     "end_time": "2022-10-14T12:57:20.338963Z",
     "start_time": "2022-10-14T12:57:20.335962Z"
    }
   },
   "outputs": [],
   "source": [
    "percentage = round(((basement_price - no_basement_price) / no_basement_price) * 100)"
   ]
  },
  {
   "cell_type": "code",
   "execution_count": 128,
   "id": "e3e334dc",
   "metadata": {
    "ExecuteTime": {
     "end_time": "2022-10-14T12:57:20.962102Z",
     "start_time": "2022-10-14T12:57:20.960102Z"
    }
   },
   "outputs": [
    {
     "name": "stdout",
     "output_type": "stream",
     "text": [
      "Imóveis com porão são 28% mais caros.\n"
     ]
    }
   ],
   "source": [
    "print(f'Imóveis com porão são {percentage}% mais caros.')"
   ]
  },
  {
   "cell_type": "markdown",
   "id": "85752cf6",
   "metadata": {},
   "source": [
    "#### 3. O número de andares dos imóveis cresceu ao longo dos anos"
   ]
  },
  {
   "cell_type": "markdown",
   "id": "41d4bf2e",
   "metadata": {},
   "source": [
    "**Falso**: Ao longo dos anos, o número de andares dos imóveis caiu de 02 andares para somente 01, mas desde 1980 a média voltou a ser 02 andares.\n",
    "\n",
    "**Insight**: Pode-se priorizar a compra de imóveis de 02 ou mais andares."
   ]
  },
  {
   "cell_type": "code",
   "execution_count": 129,
   "id": "468a6baa",
   "metadata": {
    "ExecuteTime": {
     "end_time": "2022-10-14T12:57:28.983896Z",
     "start_time": "2022-10-14T12:57:28.971894Z"
    }
   },
   "outputs": [
    {
     "data": {
      "text/html": [
       "<div>\n",
       "<style scoped>\n",
       "    .dataframe tbody tr th:only-of-type {\n",
       "        vertical-align: middle;\n",
       "    }\n",
       "\n",
       "    .dataframe tbody tr th {\n",
       "        vertical-align: top;\n",
       "    }\n",
       "\n",
       "    .dataframe thead th {\n",
       "        text-align: right;\n",
       "    }\n",
       "</style>\n",
       "<table border=\"1\" class=\"dataframe\">\n",
       "  <thead>\n",
       "    <tr style=\"text-align: right;\">\n",
       "      <th></th>\n",
       "      <th>yr_built</th>\n",
       "      <th>mean_floors</th>\n",
       "      <th>qty</th>\n",
       "    </tr>\n",
       "  </thead>\n",
       "  <tbody>\n",
       "    <tr>\n",
       "      <th>0</th>\n",
       "      <td>1900</td>\n",
       "      <td>2.00</td>\n",
       "      <td>86</td>\n",
       "    </tr>\n",
       "    <tr>\n",
       "      <th>1</th>\n",
       "      <td>1901</td>\n",
       "      <td>2.00</td>\n",
       "      <td>29</td>\n",
       "    </tr>\n",
       "    <tr>\n",
       "      <th>2</th>\n",
       "      <td>1902</td>\n",
       "      <td>2.00</td>\n",
       "      <td>27</td>\n",
       "    </tr>\n",
       "    <tr>\n",
       "      <th>3</th>\n",
       "      <td>1903</td>\n",
       "      <td>1.00</td>\n",
       "      <td>45</td>\n",
       "    </tr>\n",
       "    <tr>\n",
       "      <th>4</th>\n",
       "      <td>1904</td>\n",
       "      <td>1.00</td>\n",
       "      <td>44</td>\n",
       "    </tr>\n",
       "  </tbody>\n",
       "</table>\n",
       "</div>"
      ],
      "text/plain": [
       "   yr_built  mean_floors  qty\n",
       "0      1900         2.00   86\n",
       "1      1901         2.00   29\n",
       "2      1902         2.00   27\n",
       "3      1903         1.00   45\n",
       "4      1904         1.00   44"
      ]
     },
     "execution_count": 129,
     "metadata": {},
     "output_type": "execute_result"
    }
   ],
   "source": [
    "floors_y = df[['yr_built', 'floors']].groupby('yr_built')\n",
    "floors_y = floors_y.agg(\n",
    "                        mean_floors = pd.NamedAgg('floors', 'mean'),\n",
    "                        qty = pd.NamedAgg('floors', 'count')\n",
    "                        ).round().reset_index()\n",
    "floors_y.head() "
   ]
  },
  {
   "cell_type": "code",
   "execution_count": 130,
   "id": "0da1cb04",
   "metadata": {
    "ExecuteTime": {
     "end_time": "2022-10-14T12:57:30.175162Z",
     "start_time": "2022-10-14T12:57:30.034131Z"
    }
   },
   "outputs": [
    {
     "data": {
      "image/png": "[encoded data removed]",
      "text/plain": [
       "<Figure size 1080x576 with 1 Axes>"
      ]
     },
     "metadata": {},
     "output_type": "display_data"
    }
   ],
   "source": [
    "line2 = sns.lineplot(data = floors_y, x = 'yr_built', y = 'mean_floors')\n",
    "line2.set(title = 'Número de Andares ao longo dos Anos', xlabel = 'Anos', ylabel = 'Andares');"
   ]
  },
  {
   "cell_type": "markdown",
   "id": "7120c150",
   "metadata": {},
   "source": [
    "#### 4. Imóveis com 02 andares são 20% mais caros que imóveis com 01 andar"
   ]
  },
  {
   "cell_type": "markdown",
   "id": "a2b82a16",
   "metadata": {},
   "source": [
    "**Falso**: Imóveis com 02 andares são 46% mais caros em comparação a imóveis com 01 andar.\n",
    "\n",
    "**Insight**: Confirmando o insight anterior, os imóveis com 02 andares têm maior potencial de valorização."
   ]
  },
  {
   "cell_type": "code",
   "execution_count": 131,
   "id": "e1792380",
   "metadata": {
    "ExecuteTime": {
     "end_time": "2022-10-14T12:57:50.148216Z",
     "start_time": "2022-10-14T12:57:50.143215Z"
    }
   },
   "outputs": [],
   "source": [
    "two_price = df.loc[df['floors'] == 2, 'price'].mean()"
   ]
  },
  {
   "cell_type": "code",
   "execution_count": 132,
   "id": "a454f4cd",
   "metadata": {
    "ExecuteTime": {
     "end_time": "2022-10-14T12:57:50.544232Z",
     "start_time": "2022-10-14T12:57:50.541233Z"
    }
   },
   "outputs": [],
   "source": [
    "one_price = df.loc[df['floors'] == 1, 'price'].mean()"
   ]
  },
  {
   "cell_type": "code",
   "execution_count": 133,
   "id": "a0970c42",
   "metadata": {
    "ExecuteTime": {
     "end_time": "2022-10-14T12:57:50.900313Z",
     "start_time": "2022-10-14T12:57:50.897312Z"
    }
   },
   "outputs": [],
   "source": [
    "percentage = round(((two_price - one_price) / one_price) * 100)"
   ]
  },
  {
   "cell_type": "code",
   "execution_count": 134,
   "id": "40245d97",
   "metadata": {
    "ExecuteTime": {
     "end_time": "2022-10-14T12:57:51.425434Z",
     "start_time": "2022-10-14T12:57:51.420430Z"
    }
   },
   "outputs": [
    {
     "name": "stdout",
     "output_type": "stream",
     "text": [
      "Imóveis com 02 andares são 46% mais caros em comparação a imóveis com 01 andar.\n"
     ]
    }
   ],
   "source": [
    "print(f'Imóveis com 02 andares são {percentage}% mais caros em comparação a imóveis com 01 andar.')"
   ]
  },
  {
   "cell_type": "markdown",
   "id": "674aeb24",
   "metadata": {},
   "source": [
    "#### 5. Imóveis reformados são 40% mais caros que imóveis não reformados"
   ]
  },
  {
   "cell_type": "markdown",
   "id": "0267c090",
   "metadata": {},
   "source": [
    "**Verdadeiro**: Imóveis reformados são 43% mais caros em comparação a imóveis não reformados.\n",
    "\n",
    "**Insight**: Dependendo do custo e da viabilidade, reformar um imóvel é uma boa maneira de aumentar o seu preço."
   ]
  },
  {
   "cell_type": "code",
   "execution_count": 135,
   "id": "7e48ac88",
   "metadata": {
    "ExecuteTime": {
     "end_time": "2022-10-14T12:58:01.060089Z",
     "start_time": "2022-10-14T12:58:01.057089Z"
    }
   },
   "outputs": [],
   "source": [
    "renov_price = df.loc[df['yr_renovated'] != 0, 'price'].mean()"
   ]
  },
  {
   "cell_type": "code",
   "execution_count": 136,
   "id": "9b1db58a",
   "metadata": {
    "ExecuteTime": {
     "end_time": "2022-10-14T12:58:01.280138Z",
     "start_time": "2022-10-14T12:58:01.276137Z"
    }
   },
   "outputs": [],
   "source": [
    "no_renov_price = df.loc[df['yr_renovated'] == 0, 'price'].mean()"
   ]
  },
  {
   "cell_type": "code",
   "execution_count": 137,
   "id": "c1a959ed",
   "metadata": {
    "ExecuteTime": {
     "end_time": "2022-10-14T12:58:01.558200Z",
     "start_time": "2022-10-14T12:58:01.556200Z"
    }
   },
   "outputs": [],
   "source": [
    "percentage = round(((renov_price - no_renov_price) / no_renov_price) * 100)"
   ]
  },
  {
   "cell_type": "code",
   "execution_count": 138,
   "id": "f366d3c0",
   "metadata": {
    "ExecuteTime": {
     "end_time": "2022-10-14T12:58:01.857267Z",
     "start_time": "2022-10-14T12:58:01.854267Z"
    }
   },
   "outputs": [
    {
     "name": "stdout",
     "output_type": "stream",
     "text": [
      "Imóveis reformados são 43% mais caros em comparação a imóveis não reformados.\n"
     ]
    }
   ],
   "source": [
    "print(f'Imóveis reformados são {percentage}% mais caros em comparação a imóveis não reformados.')"
   ]
  },
  {
   "cell_type": "markdown",
   "id": "935321a9",
   "metadata": {},
   "source": [
    "#### 6. Imóveis com 02 banheiros são 20% mais caros em comparação a imóveis com somente 01 banheiro"
   ]
  },
  {
   "cell_type": "markdown",
   "id": "5dc5f038",
   "metadata": {},
   "source": [
    "**Falso**: Imóveis com 02 banheiros são 32% mais caros em comparação a imóveis com somente 01 banheiro.\n",
    "\n",
    "**Insight**: O público valoriza mais imóveis com 02 banheiros do que aqueles com 01 banheiro só."
   ]
  },
  {
   "cell_type": "code",
   "execution_count": 139,
   "id": "04a7a197",
   "metadata": {
    "ExecuteTime": {
     "end_time": "2022-10-14T12:58:13.079779Z",
     "start_time": "2022-10-14T12:58:13.074778Z"
    }
   },
   "outputs": [],
   "source": [
    "two_bath_price = df.loc[df['bathrooms'] == 2, 'price'].mean()"
   ]
  },
  {
   "cell_type": "code",
   "execution_count": 140,
   "id": "87a97dea",
   "metadata": {
    "ExecuteTime": {
     "end_time": "2022-10-14T12:58:13.335836Z",
     "start_time": "2022-10-14T12:58:13.332835Z"
    }
   },
   "outputs": [],
   "source": [
    "one_bath_price = df.loc[df['bathrooms'] == 1, 'price'].mean()"
   ]
  },
  {
   "cell_type": "code",
   "execution_count": 141,
   "id": "7e48df5f",
   "metadata": {
    "ExecuteTime": {
     "end_time": "2022-10-14T12:58:13.624900Z",
     "start_time": "2022-10-14T12:58:13.622900Z"
    }
   },
   "outputs": [],
   "source": [
    "percentage = round(((two_bath_price - one_bath_price) / one_bath_price) * 100)"
   ]
  },
  {
   "cell_type": "code",
   "execution_count": 142,
   "id": "a1214af8",
   "metadata": {
    "ExecuteTime": {
     "end_time": "2022-10-14T12:58:13.919967Z",
     "start_time": "2022-10-14T12:58:13.916966Z"
    }
   },
   "outputs": [
    {
     "name": "stdout",
     "output_type": "stream",
     "text": [
      "Imóveis com 02 banheiros são 32% mais caros em comparação a imóveis com somente 01 banheiro.\n"
     ]
    }
   ],
   "source": [
    "print(f'Imóveis com 02 banheiros são {percentage}% mais caros em comparação a imóveis com somente 01 banheiro.')"
   ]
  },
  {
   "cell_type": "markdown",
   "id": "658c8333",
   "metadata": {},
   "source": [
    "#### 7. Imóveis com 03 quartos são 30% mais caros em comparação a imóveis com 02 ou menos quartos"
   ]
  },
  {
   "cell_type": "markdown",
   "id": "d27fa1e6",
   "metadata": {},
   "source": [
    "**Falso**: Imóveis com 03 quartos são 18% mais caros em comparação a imóveis com 02 quartos.\n",
    "\n",
    "**Insight**: A depender do custo e viabilidade, reformar o imóvel de 02 quartos e construir um novo quarto pode valorizar o imóvel."
   ]
  },
  {
   "cell_type": "code",
   "execution_count": 143,
   "id": "78a2e225",
   "metadata": {
    "ExecuteTime": {
     "end_time": "2022-10-14T12:58:22.623978Z",
     "start_time": "2022-10-14T12:58:22.620977Z"
    }
   },
   "outputs": [],
   "source": [
    "three_rooms_price = df.loc[df['bedrooms'] == 3, 'price'].mean()"
   ]
  },
  {
   "cell_type": "code",
   "execution_count": 144,
   "id": "93555650",
   "metadata": {
    "ExecuteTime": {
     "end_time": "2022-10-14T12:58:22.868032Z",
     "start_time": "2022-10-14T12:58:22.864032Z"
    }
   },
   "outputs": [],
   "source": [
    "two_rooms_price = df.loc[df['bedrooms'] == 2, 'price'].mean()"
   ]
  },
  {
   "cell_type": "code",
   "execution_count": 145,
   "id": "99854797",
   "metadata": {
    "ExecuteTime": {
     "end_time": "2022-10-14T12:58:23.107310Z",
     "start_time": "2022-10-14T12:58:23.103308Z"
    }
   },
   "outputs": [],
   "source": [
    "percentage = round(((three_rooms_price - two_rooms_price) / two_rooms_price) * 100)"
   ]
  },
  {
   "cell_type": "code",
   "execution_count": 146,
   "id": "244da74a",
   "metadata": {
    "ExecuteTime": {
     "end_time": "2022-10-14T12:58:23.423653Z",
     "start_time": "2022-10-14T12:58:23.420653Z"
    }
   },
   "outputs": [
    {
     "name": "stdout",
     "output_type": "stream",
     "text": [
      "Imóveis com 03 quartos são 16% mais caros em comparação a imóveis com 02 quartos.\n"
     ]
    }
   ],
   "source": [
    "print(f'Imóveis com 03 quartos são {percentage}% mais caros em comparação a imóveis com 02 quartos.')"
   ]
  },
  {
   "cell_type": "markdown",
   "id": "73b1305c",
   "metadata": {},
   "source": [
    "####  8. Imóveis com data de construção anterior a 1960 são 20% mais caros"
   ]
  },
  {
   "cell_type": "markdown",
   "id": "582d0487",
   "metadata": {},
   "source": [
    "**Falso**: Na média, imóveis construídos antes de 1960 são 4% mais caros em comparação a imóveis construídos depois de 1960.\n",
    "\n",
    "**Insight**: Como não existe muita diferença de preço, pode-se priorizar a compra de imóveis construídos após 1960, por serem mais novos (dependendo também de outros fatores)."
   ]
  },
  {
   "cell_type": "code",
   "execution_count": 147,
   "id": "e5ae9a91",
   "metadata": {
    "ExecuteTime": {
     "end_time": "2022-10-14T12:58:33.623945Z",
     "start_time": "2022-10-14T12:58:33.620945Z"
    }
   },
   "outputs": [],
   "source": [
    "b_price = df.loc[df['yr_built'] < 1960, 'price'].mean()"
   ]
  },
  {
   "cell_type": "code",
   "execution_count": 148,
   "id": "b9826d67",
   "metadata": {
    "ExecuteTime": {
     "end_time": "2022-10-14T12:58:33.843994Z",
     "start_time": "2022-10-14T12:58:33.839994Z"
    }
   },
   "outputs": [],
   "source": [
    "a_price = df.loc[df['yr_built'] >= 1960, 'price'].mean()"
   ]
  },
  {
   "cell_type": "code",
   "execution_count": 149,
   "id": "4846d346",
   "metadata": {
    "ExecuteTime": {
     "end_time": "2022-10-14T12:58:34.100053Z",
     "start_time": "2022-10-14T12:58:34.098052Z"
    }
   },
   "outputs": [],
   "source": [
    "percentage = round(((a_price - b_price) / b_price) * 100)"
   ]
  },
  {
   "cell_type": "code",
   "execution_count": 150,
   "id": "2eaff678",
   "metadata": {
    "ExecuteTime": {
     "end_time": "2022-10-14T12:58:34.375114Z",
     "start_time": "2022-10-14T12:58:34.373114Z"
    }
   },
   "outputs": [
    {
     "name": "stdout",
     "output_type": "stream",
     "text": [
      "Imóveis construídos antes de 1960 são 4% mais caros em comparação a imóveis construídos depois de 1960.\n"
     ]
    }
   ],
   "source": [
    "print(f'Imóveis construídos antes de 1960 são {percentage}% mais caros em comparação a imóveis construídos depois de 1960.')"
   ]
  },
  {
   "cell_type": "markdown",
   "id": "9f9999b6",
   "metadata": {},
   "source": [
    "#### 9. Entre os imóveis construídos antes de 1960, os reformados têm um preço 40% maior"
   ]
  },
  {
   "cell_type": "markdown",
   "id": "8fcddce8",
   "metadata": {},
   "source": [
    "**Falso**: Imóveis construídos antes dessa data e reformados são 48% mais caros em comparação aos não reformados construídos no mesmo período.\n",
    "\n",
    "**Insight**: Conforme visto acima, não existe muita diferença de preço entre imóveis construídos antes e depois de 1960, então uma sugestão poderia ser comprar os imóveis construídos antes de 1960 e reformá-los, visando uma valorização expressiva. "
   ]
  },
  {
   "cell_type": "code",
   "execution_count": 151,
   "id": "d9f05749",
   "metadata": {
    "ExecuteTime": {
     "end_time": "2022-10-14T12:58:49.060397Z",
     "start_time": "2022-10-14T12:58:49.054396Z"
    }
   },
   "outputs": [],
   "source": [
    "b_renov = df[(df['yr_built'] < 1960) & (df['yr_renovated'] != 0)][['yr_built', 'price', 'yr_renovated']]\n",
    "b_re_price = b_renov['price'].mean()"
   ]
  },
  {
   "cell_type": "code",
   "execution_count": 152,
   "id": "c1b5c140",
   "metadata": {
    "ExecuteTime": {
     "end_time": "2022-10-14T12:58:49.302451Z",
     "start_time": "2022-10-14T12:58:49.296450Z"
    }
   },
   "outputs": [],
   "source": [
    "b_no_renov = df[(df['yr_built'] < 1960) & (df['yr_renovated'] == 0)][['yr_built', 'price', 'yr_renovated']]\n",
    "b_no_price = b_no_renov['price'].mean()"
   ]
  },
  {
   "cell_type": "code",
   "execution_count": 153,
   "id": "719c50d3",
   "metadata": {
    "ExecuteTime": {
     "end_time": "2022-10-14T12:58:49.559509Z",
     "start_time": "2022-10-14T12:58:49.556508Z"
    }
   },
   "outputs": [],
   "source": [
    "percentage = round(((b_re_price - b_no_price) / b_no_price) * 100)"
   ]
  },
  {
   "cell_type": "code",
   "execution_count": 154,
   "id": "f1dc0f19",
   "metadata": {
    "ExecuteTime": {
     "end_time": "2022-10-14T12:58:49.867579Z",
     "start_time": "2022-10-14T12:58:49.864577Z"
    }
   },
   "outputs": [
    {
     "name": "stdout",
     "output_type": "stream",
     "text": [
      "Imóveis construídos antes de 1960 e reformados são 48% mais caros em comparação a imóveis construídos no mesmo período e não reformados.\n"
     ]
    }
   ],
   "source": [
    "print(f'Imóveis construídos antes de 1960 e reformados são {percentage}% mais caros em comparação a imóveis construídos no mesmo período e não reformados.')"
   ]
  },
  {
   "cell_type": "markdown",
   "id": "e23e9925",
   "metadata": {},
   "source": [
    "#### 10. Imóveis com uma boa vista (nota 2 ou maior) são 30% mais caros"
   ]
  },
  {
   "cell_type": "markdown",
   "id": "bf82eab0",
   "metadata": {},
   "source": [
    "**Falso**: Imóveis com boa vista são 91% mais caros em comparação a imóveis com uma vista ruim.\n",
    "\n",
    "**Insight**: A vista de um imóvel é um atributo a ser considerado na hora de aquisição dos imóveis, haja vista a diferença expressiva de preço entre os que tem uma boa vista e os que não tem."
   ]
  },
  {
   "cell_type": "code",
   "execution_count": 155,
   "id": "e8cbcc43",
   "metadata": {
    "ExecuteTime": {
     "end_time": "2022-10-14T12:59:10.233364Z",
     "start_time": "2022-10-14T12:59:10.229363Z"
    }
   },
   "outputs": [],
   "source": [
    "good_price = df.loc[df['view'] >= 2, 'price'].mean()"
   ]
  },
  {
   "cell_type": "code",
   "execution_count": 156,
   "id": "c1bb2d12",
   "metadata": {
    "ExecuteTime": {
     "end_time": "2022-10-14T12:59:10.513426Z",
     "start_time": "2022-10-14T12:59:10.510427Z"
    }
   },
   "outputs": [],
   "source": [
    "bad_price = df.loc[df['view'] < 2, 'price'].mean()"
   ]
  },
  {
   "cell_type": "code",
   "execution_count": 157,
   "id": "0b53c865",
   "metadata": {
    "ExecuteTime": {
     "end_time": "2022-10-14T12:59:10.767484Z",
     "start_time": "2022-10-14T12:59:10.765483Z"
    }
   },
   "outputs": [],
   "source": [
    "percentage = round(((good_price - bad_price) / bad_price) * 100)"
   ]
  },
  {
   "cell_type": "code",
   "execution_count": 158,
   "id": "d852a553",
   "metadata": {
    "ExecuteTime": {
     "end_time": "2022-10-14T12:59:11.071551Z",
     "start_time": "2022-10-14T12:59:11.068551Z"
    }
   },
   "outputs": [
    {
     "name": "stdout",
     "output_type": "stream",
     "text": [
      "Imóveis com uma boa vista são 91% mais caros em comparação a imóveis com uma vista ruim.\n"
     ]
    }
   ],
   "source": [
    "print(f'Imóveis com uma boa vista são {percentage}% mais caros em comparação a imóveis com uma vista ruim.')"
   ]
  },
  {
   "cell_type": "markdown",
   "id": "59bc3bc7",
   "metadata": {},
   "source": [
    "### Exportando o Dataset Alterado"
   ]
  },
  {
   "cell_type": "code",
   "execution_count": 159,
   "id": "de4c85c0",
   "metadata": {
    "ExecuteTime": {
     "end_time": "2022-10-14T12:59:16.200696Z",
     "start_time": "2022-10-14T12:59:15.847617Z"
    }
   },
   "outputs": [],
   "source": [
    "df_m.to_csv('csv/kc_house_data_final.csv')"
   ]
  }
 ],
 "metadata": {
  "kernelspec": {
   "display_name": "Python 3 (ipykernel)",
   "language": "python",
   "name": "python3"
  },
  "language_info": {
   "codemirror_mode": {
    "name": "ipython",
    "version": 3
   },
   "file_extension": ".py",
   "mimetype": "text/x-python",
   "name": "python",
   "nbconvert_exporter": "python",
   "pygments_lexer": "ipython3",
   "version": "3.9.7"
  }
 },
 "nbformat": 4,
 "nbformat_minor": 5
}
